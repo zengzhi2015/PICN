{
 "cells": [
  {
   "cell_type": "markdown",
   "metadata": {},
   "source": [
    "# 0. Import Libraries"
   ]
  },
  {
   "cell_type": "code",
   "execution_count": null,
   "metadata": {},
   "outputs": [],
   "source": [
    "%pip install pandas\n",
    "%pip install matplotlib"
   ]
  },
  {
   "cell_type": "code",
   "execution_count": 1,
   "metadata": {},
   "outputs": [],
   "source": [
    "import tensorflow as tf\n",
    "import tensorflow.keras as keras\n",
    "from tensorflow.keras import backend as K\n",
    "from tensorflow.keras.layers import *\n",
    "\n",
    "import numpy as np\n",
    "import pandas as pd\n",
    "from scipy.io import loadmat\n",
    "from scipy.io import savemat\n",
    "import math\n",
    "\n",
    "import matplotlib.pyplot as plt\n",
    "import matplotlib.pyplot as plt\n",
    "from matplotlib import cm\n",
    "from matplotlib.ticker import LinearLocator\n",
    "\n",
    "import time"
   ]
  },
  {
   "cell_type": "code",
   "execution_count": 2,
   "metadata": {},
   "outputs": [],
   "source": [
    "from numpy.random import seed\n",
    "seed(0)\n",
    "tf.random.set_seed(0)"
   ]
  },
  {
   "cell_type": "markdown",
   "metadata": {},
   "source": [
    "# 1. Define Something in Advance"
   ]
  },
  {
   "cell_type": "code",
   "execution_count": 3,
   "metadata": {},
   "outputs": [],
   "source": [
    "def U(x,y):\n",
    "    return np.cos(y-x)\n",
    "\n",
    "def V(x,y):\n",
    "    return np.sin(y-x)"
   ]
  },
  {
   "cell_type": "markdown",
   "metadata": {},
   "source": [
    "# 2. Initialize the Grid"
   ]
  },
  {
   "cell_type": "code",
   "execution_count": 4,
   "metadata": {},
   "outputs": [],
   "source": [
    "delta = 0.1*np.pi\n",
    "x_domain = np.arange(0, np.pi, delta)\n",
    "y_domain = np.arange(0, np.pi, delta)\n",
    "x_mesh,y_mesh = np.meshgrid(x_domain, y_domain)"
   ]
  },
  {
   "cell_type": "markdown",
   "metadata": {},
   "source": [
    "# 3. Define Physical Info."
   ]
  },
  {
   "cell_type": "markdown",
   "metadata": {},
   "source": [
    "    suppose: \n",
    "    x = x[0];y = x[1];\n",
    "    uxy = x[2];vxy = x[3]; \n",
    "    dudx = x[4];dvdx = x[5];\n",
    "    dudy = x[6];dvdy = x[7];\n",
    "    du2dx2 = x[8];dv2dx2 = x[9];\n",
    "    du2dy2 = x[10];dv2dy2 = x[11];\n",
    "    du2dxdy = x[12];dv2dxdy = x[13];"
   ]
  },
  {
   "cell_type": "code",
   "execution_count": 5,
   "metadata": {},
   "outputs": [],
   "source": [
    "governing_equation_components = []\n",
    "governing_equation_components.append(Lambda(lambda x: (x[4]+x[11]+x[3]-(x[2]**2+x[3]**2)*x[3])**2))\n",
    "governing_equation_components.append(Lambda(lambda x: (x[5]-x[10]-x[2]+(x[2]**2+x[3]**2)*x[2])**2))"
   ]
  },
  {
   "cell_type": "code",
   "execution_count": 6,
   "metadata": {},
   "outputs": [],
   "source": [
    "governing_equation_mask = x_mesh*0+1\n",
    "#governing_equation_mask[0,:]=0\n",
    "#governing_equation_mask[-1,:]=0\n",
    "#governing_equation_mask[:,0]=0\n",
    "#governing_equation_mask[:,-1]=0"
   ]
  },
  {
   "cell_type": "code",
   "execution_count": 7,
   "metadata": {},
   "outputs": [],
   "source": [
    "fx = governing_equation_mask*(x_mesh*0)"
   ]
  },
  {
   "cell_type": "code",
   "execution_count": 8,
   "metadata": {},
   "outputs": [],
   "source": [
    "estimate_equation_form = False\n",
    "equation_component_combination = [1.0,1.0]"
   ]
  },
  {
   "cell_type": "markdown",
   "metadata": {},
   "source": [
    "# 4. Define the Observations"
   ]
  },
  {
   "cell_type": "markdown",
   "metadata": {},
   "source": [
    "    suppose: \n",
    "    x = x[0];y = x[1];\n",
    "    uxy = x[2];vxy = x[3]; \n",
    "    dudx = x[4];dvdx = x[5];\n",
    "    dudy = x[6];dvdy = x[7];\n",
    "    du2dx2 = x[8];dv2dx2 = x[9];\n",
    "    du2dy2 = x[10];dv2dy2 = x[11];\n",
    "    du2dxdy = x[12];dv2dxdy = x[13];"
   ]
  },
  {
   "cell_type": "code",
   "execution_count": 9,
   "metadata": {},
   "outputs": [],
   "source": [
    "observation_components = []\n",
    "observation_components.append(Lambda(lambda x: (x[2]-tf.cos(x[1]-x[0]))**2))\n",
    "observation_components.append(Lambda(lambda x: (x[3]-tf.sin(x[1]-x[0]))**2))"
   ]
  },
  {
   "cell_type": "markdown",
   "metadata": {},
   "source": [
    "    format: [x,y,combination,value]"
   ]
  },
  {
   "cell_type": "code",
   "execution_count": 10,
   "metadata": {},
   "outputs": [],
   "source": [
    "observation_data = []\n",
    "# bottom\n",
    "for x in x_domain:\n",
    "    y = y_domain[0]\n",
    "    comb = [1,1]\n",
    "    v = 0\n",
    "    observation_data.append([x,y,comb,v])\n",
    "# left\n",
    "for y in y_domain:\n",
    "    x = x_domain[0]\n",
    "    comb = [1,1]\n",
    "    v = 0\n",
    "    observation_data.append([x,y,comb,v])  \n",
    "# up\n",
    "for x in x_domain:\n",
    "    y = y_domain[-1]\n",
    "    comb = [1,1]\n",
    "    v = 0\n",
    "    observation_data.append([x,y,comb,v])   \n",
    "# right\n",
    "for y in y_domain:\n",
    "    x = x_domain[-1]\n",
    "    comb = [1,1]\n",
    "    v = 0\n",
    "    observation_data.append([x,y,comb,v])"
   ]
  },
  {
   "cell_type": "markdown",
   "metadata": {},
   "source": [
    "# 5. Define PICN"
   ]
  },
  {
   "cell_type": "code",
   "execution_count": 11,
   "metadata": {},
   "outputs": [],
   "source": [
    "def gradient_x_kernal_init(shape, dtype=tf.float32):\n",
    "    return tf.constant([[[[-1.0/delta]], [[1.0/delta]]]], dtype=dtype)"
   ]
  },
  {
   "cell_type": "code",
   "execution_count": 12,
   "metadata": {},
   "outputs": [],
   "source": [
    "def gradient_x2_kernal_init(shape, dtype=tf.float32):\n",
    "    return tf.constant([[[[1.0/delta**2]], [[-2.0/delta**2]], [[1.0/delta**2]]]], dtype=dtype)"
   ]
  },
  {
   "cell_type": "code",
   "execution_count": 13,
   "metadata": {},
   "outputs": [],
   "source": [
    "def gradient_y_kernal_init(shape, dtype=tf.float32):\n",
    "    return tf.constant([[[[-1.0/delta]]], [[[1.0/delta]]]], dtype=dtype)"
   ]
  },
  {
   "cell_type": "code",
   "execution_count": 14,
   "metadata": {},
   "outputs": [],
   "source": [
    "def gradient_y2_kernal_init(shape, dtype=tf.float32):\n",
    "    return tf.constant([[[[1.0/delta**2]]], [[[-2.0/delta**2]]], [[[1.0/delta**2]]]], dtype=dtype)"
   ]
  },
  {
   "cell_type": "code",
   "execution_count": 15,
   "metadata": {},
   "outputs": [],
   "source": [
    "def gradient_xy_kernal_init(shape, dtype=tf.float32):\n",
    "    return tf.constant([[[[1.0/delta**2]], [[-1.0/delta**2]]], [[[-1.0/delta**2]], [[1.0/delta**2]]]], dtype=dtype)"
   ]
  },
  {
   "cell_type": "code",
   "execution_count": 16,
   "metadata": {},
   "outputs": [],
   "source": [
    "def laplace_kernal_init(shape, dtype=tf.float32):\n",
    "    return tf.constant([[[[0]], [[1.0/delta**2]], [[0]]], [[[1.0/delta**2]], [[-4.0/delta**2]], [[1.0/delta**2]]], [[[0]], [[1.0/delta**2]], [[0]]]], dtype=dtype)"
   ]
  },
  {
   "cell_type": "code",
   "execution_count": 17,
   "metadata": {},
   "outputs": [],
   "source": [
    "gradient_x = keras.layers.Conv2D(filters=1, \n",
    "                                     kernel_size=[1,2], \n",
    "                                     padding='valid',\n",
    "                                     use_bias=False,\n",
    "                                     trainable=False,\n",
    "                                     kernel_initializer=gradient_x_kernal_init)\n",
    "gradient_x2 = keras.layers.Conv2D(filters=1, \n",
    "                                       kernel_size=[1,3], \n",
    "                                       padding='valid',\n",
    "                                       use_bias=False,\n",
    "                                       trainable=False,\n",
    "                                       kernel_initializer=gradient_x2_kernal_init)\n",
    "gradient_y = keras.layers.Conv2D(filters=1, \n",
    "                                     kernel_size=[2,1], \n",
    "                                     padding='valid',\n",
    "                                     use_bias=False,\n",
    "                                     trainable=False,\n",
    "                                     kernel_initializer=gradient_y_kernal_init)\n",
    "gradient_y2 = keras.layers.Conv2D(filters=1, \n",
    "                                       kernel_size=[3,1], \n",
    "                                       padding='valid',\n",
    "                                       use_bias=False,\n",
    "                                       trainable=False,\n",
    "                                       kernel_initializer=gradient_y2_kernal_init)\n",
    "gradient_xy = keras.layers.Conv2D(filters=1, \n",
    "                                       kernel_size=[2,2], \n",
    "                                       padding='valid',\n",
    "                                       use_bias=False,\n",
    "                                       trainable=False,\n",
    "                                       kernel_initializer=gradient_xy_kernal_init)"
   ]
  },
  {
   "cell_type": "code",
   "execution_count": 18,
   "metadata": {},
   "outputs": [],
   "source": [
    "inputs = [keras.layers.Input(shape=(1,1,1)),\n",
    "          keras.layers.Input(shape=(len(y_domain),len(x_domain),1)),\n",
    "          keras.layers.Input(shape=(len(y_domain),len(x_domain),1)),\n",
    "          keras.layers.Input(shape=(len(observation_data),len(observation_components)*4)),\n",
    "          keras.layers.Input(shape=(len(y_domain),len(x_domain),1))]\n",
    "\n",
    "hidden_field = keras.layers.Conv2DTranspose(filters=2, \n",
    "                                            kernel_size=[len(y_domain)+4,len(x_domain)+4], \n",
    "                                            activation='linear')(inputs[0])\n",
    "field = keras.layers.Conv2D(filters=2, \n",
    "                            kernel_size=3, \n",
    "                            padding='valid', \n",
    "                            activation='linear')(hidden_field)\n",
    "                            #activation=Lambda(lambda x: x+tf.tanh(x)))(hidden_field)\n",
    "\n",
    "coordinates_x = inputs[1]\n",
    "coordinates_y = inputs[2]\n",
    "\n",
    "uxy_field = field[:,:,:,0:1]\n",
    "vxy_field = field[:,:,:,1:2]\n",
    "\n",
    "dudx_field = gradient_x(uxy_field[:,:,:,0:1])\n",
    "dvdx_field = gradient_x(vxy_field[:,:,:,0:1])\n",
    "\n",
    "dudy_field = gradient_y(uxy_field[:,:,:,0:1])\n",
    "dvdy_field = gradient_y(vxy_field[:,:,:,0:1])\n",
    "\n",
    "d2udx2_field = gradient_x2(uxy_field[:,:,:,0:1])\n",
    "d2vdx2_field = gradient_x2(vxy_field[:,:,:,0:1])\n",
    "\n",
    "d2udy2_field = gradient_y2(uxy_field[:,:,:,0:1])\n",
    "d2vdy2_field = gradient_y2(vxy_field[:,:,:,0:1])\n",
    "\n",
    "d2udxy_field = gradient_xy(uxy_field[:,:,:,0:1])\n",
    "d2vdxy_field = gradient_xy(vxy_field[:,:,:,0:1])\n",
    "\n",
    "phycial_fields = [coordinates_x,\n",
    "                  coordinates_y,\n",
    "                  uxy_field[:,1:-1,1:-1,:],\n",
    "                  vxy_field[:,1:-1,1:-1,:],\n",
    "                  dudx_field[:,1:-1,1:,:],\n",
    "                  dvdx_field[:,1:-1,1:,:],\n",
    "                  dudy_field[:,1:,1:-1,:],\n",
    "                  dvdy_field[:,1:,1:-1,:],\n",
    "                  d2udx2_field[:,1:-1,:,:],\n",
    "                  d2vdx2_field[:,1:-1,:,:],\n",
    "                  d2udy2_field[:,:,1:-1,:],\n",
    "                  d2vdy2_field[:,:,1:-1,:],\n",
    "                  d2udxy_field[:,1:,1:,:],\n",
    "                  d2vdxy_field[:,1:,1:,:]]"
   ]
  },
  {
   "cell_type": "code",
   "execution_count": 19,
   "metadata": {},
   "outputs": [],
   "source": [
    "if estimate_equation_form==True:\n",
    "    tf_governing_equation_components = [component(phycial_fields) for component in governing_equation_components]\n",
    "    concat_equation_components = Lambda(lambda x: tf.concat(x,axis=-1))(tf_governing_equation_components)\n",
    "    governing_equation = keras.layers.Conv2D(filters=1, \n",
    "                                             kernel_size=[1,1], \n",
    "                                             padding='valid',\n",
    "                                             use_bias=False)(concat_equation_components)*inputs[4]\n",
    "else:\n",
    "    tf_weighted_governing_equation_components = [weight*component(phycial_fields) for [weight,component] in zip(equation_component_combination,governing_equation_components)]\n",
    "    concat_weighted_equation_components = Lambda(lambda x: tf.concat(x,axis=-1))(tf_weighted_governing_equation_components)\n",
    "    governing_equation = Lambda(lambda x: tf.reduce_sum(x,axis=-1,keepdims=True))(concat_weighted_equation_components)*inputs[4]"
   ]
  },
  {
   "cell_type": "code",
   "execution_count": 20,
   "metadata": {},
   "outputs": [],
   "source": [
    "tf_observation_components = [component(phycial_fields) for component in observation_components]\n",
    "concat_observation_components = Lambda(lambda x: tf.concat(x,axis=-1))(tf_observation_components)"
   ]
  },
  {
   "cell_type": "code",
   "execution_count": 21,
   "metadata": {},
   "outputs": [],
   "source": [
    "left_x_position_index_list = []\n",
    "right_x_position_index_list = []\n",
    "left_x_position_weight_list = []\n",
    "right_x_position_weight_list = []\n",
    "\n",
    "bottom_y_position_index_list = []\n",
    "top_y_position_index_list = []\n",
    "bottom_y_position_weight_list = []\n",
    "top_y_position_weight_list = []\n",
    "\n",
    "\n",
    "for data in observation_data:\n",
    "    \n",
    "    left_x_position_index = int(np.floor((data[0] - x_domain[0])/delta))\n",
    "    right_x_position_index = left_x_position_index + 1\n",
    "    left_x_position_weight = 1-(data[0] - (x_domain[0]+delta*left_x_position_index))/delta\n",
    "    right_x_position_weight = 1-left_x_position_weight\n",
    "    \n",
    "    bottom_y_position_index = int(np.floor((data[1] - y_domain[0])/delta))\n",
    "    top_y_position_index = bottom_y_position_index + 1\n",
    "    bottom_y_position_weight = 1-(data[1] - (y_domain[0]+delta*bottom_y_position_index))/delta\n",
    "    top_y_position_weight = 1-bottom_y_position_weight\n",
    "    \n",
    "    if data[0] <= x_domain[0] + 1e-8:\n",
    "        left_x_position_index = 0\n",
    "        right_x_position_index = 1\n",
    "        left_x_position_weight = 1\n",
    "        right_x_position_weight = 0\n",
    "    if data[0] >= x_domain[-1] - 1e-8:\n",
    "        left_x_position_index = len(x_domain)-2\n",
    "        right_x_position_index = len(x_domain)-1\n",
    "        left_x_position_weight = 0\n",
    "        right_x_position_weight = 1\n",
    "    if data[1] <= y_domain[0] + 1e-8:\n",
    "        bottom_y_position_index = 0\n",
    "        top_y_position_index = 1\n",
    "        bottom_y_position_weight = 1\n",
    "        top_y_position_weight = 0\n",
    "    if data[1] >= y_domain[-1] - 1e-8:\n",
    "        bottom_y_position_index = len(y_domain)-2\n",
    "        top_y_position_index = len(y_domain)-1\n",
    "        bottom_y_position_weight = 0\n",
    "        top_y_position_weight = 1\n",
    "    \n",
    "    left_x_position_index_list.append(left_x_position_index)\n",
    "    right_x_position_index_list.append(right_x_position_index)\n",
    "    left_x_position_weight_list.append(left_x_position_weight)\n",
    "    right_x_position_weight_list.append(right_x_position_weight)\n",
    "\n",
    "    bottom_y_position_index_list.append(bottom_y_position_index)\n",
    "    top_y_position_index_list.append(top_y_position_index)\n",
    "    bottom_y_position_weight_list.append(bottom_y_position_weight)\n",
    "    top_y_position_weight_list.append(top_y_position_weight)"
   ]
  },
  {
   "cell_type": "code",
   "execution_count": 22,
   "metadata": {},
   "outputs": [],
   "source": [
    "left_bottom_indices = tf.constant([[0,y,x] for x,y in zip(left_x_position_index_list,bottom_y_position_index_list)])\n",
    "left_top_indices = tf.constant([[0,y,x] for x,y in zip(left_x_position_index_list,top_y_position_index_list)])\n",
    "right_bottom_indices = tf.constant([[0,y,x] for x,y in zip(right_x_position_index_list,bottom_y_position_index_list)])\n",
    "right_top_indices = tf.constant([[0,y,x] for x,y in zip(right_x_position_index_list,top_y_position_index_list)])"
   ]
  },
  {
   "cell_type": "code",
   "execution_count": 23,
   "metadata": {},
   "outputs": [],
   "source": [
    "observation_data_left_bottom_part = Lambda(lambda x: tf.gather_nd(x,left_bottom_indices))(concat_observation_components)\n",
    "observation_data_left_top_part = Lambda(lambda x: tf.gather_nd(x,left_top_indices))(concat_observation_components)\n",
    "observation_data_right_bottom_part = Lambda(lambda x: tf.gather_nd(x,right_bottom_indices))(concat_observation_components)\n",
    "observation_data_right_top_part = Lambda(lambda x: tf.gather_nd(x,right_top_indices))(concat_observation_components)"
   ]
  },
  {
   "cell_type": "code",
   "execution_count": 24,
   "metadata": {},
   "outputs": [],
   "source": [
    "observation_data_four_part = Lambda(lambda x: tf.expand_dims(tf.concat(x,axis=-1),axis=0))([observation_data_left_bottom_part,observation_data_left_top_part,observation_data_right_bottom_part,observation_data_right_top_part])"
   ]
  },
  {
   "cell_type": "code",
   "execution_count": 25,
   "metadata": {},
   "outputs": [],
   "source": [
    "observation_data_interpolation_weights = np.expand_dims(\n",
    "np.asarray([np.concatenate([(np.asarray([observation_data[i][2][j] for j in range(len(observation_components))]))*left_x_position_weight_list[i]*bottom_y_position_weight_list[i],\n",
    " (np.asarray([observation_data[i][2][j] for j in range(len(observation_components))]))*left_x_position_weight_list[i]*top_y_position_weight_list[i],\n",
    " (np.asarray([observation_data[i][2][j] for j in range(len(observation_components))]))*right_x_position_weight_list[i]*bottom_y_position_weight_list[i],\n",
    " (np.asarray([observation_data[i][2][j] for j in range(len(observation_components))]))*right_x_position_weight_list[i]*top_y_position_weight_list[i]],axis=-1) for i in range(len(observation_data))]),\n",
    "    axis=0)"
   ]
  },
  {
   "cell_type": "code",
   "execution_count": 26,
   "metadata": {},
   "outputs": [],
   "source": [
    "observations = Lambda(lambda x: tf.reduce_sum(x[0]*x[1],axis=-1))([inputs[3][0,:,:],observation_data_four_part])"
   ]
  },
  {
   "cell_type": "code",
   "execution_count": 27,
   "metadata": {},
   "outputs": [],
   "source": [
    "pde_model = keras.Model(inputs=inputs[:3], outputs=phycial_fields)\n",
    "pde_model_train = keras.Model(inputs=inputs, outputs=[governing_equation,observations])"
   ]
  },
  {
   "cell_type": "code",
   "execution_count": 28,
   "metadata": {},
   "outputs": [
    {
     "name": "stdout",
     "output_type": "stream",
     "text": [
      "Model: \"model\"\n",
      "__________________________________________________________________________________________________\n",
      " Layer (type)                Output Shape                 Param #   Connected to                  \n",
      "==================================================================================================\n",
      " input_1 (InputLayer)        [(None, 1, 1, 1)]            0         []                            \n",
      "                                                                                                  \n",
      " conv2d_transpose (Conv2DTr  (None, 14, 14, 2)            394       ['input_1[0][0]']             \n",
      " anspose)                                                                                         \n",
      "                                                                                                  \n",
      " conv2d_5 (Conv2D)           (None, 12, 12, 2)            38        ['conv2d_transpose[0][0]']    \n",
      "                                                                                                  \n",
      " tf.__operators__.getitem (  (None, 12, 12, 1)            0         ['conv2d_5[0][0]']            \n",
      " SlicingOpLambda)                                                                                 \n",
      "                                                                                                  \n",
      " tf.__operators__.getitem_1  (None, 12, 12, 1)            0         ['conv2d_5[0][0]']            \n",
      "  (SlicingOpLambda)                                                                               \n",
      "                                                                                                  \n",
      " tf.__operators__.getitem_2  (None, 12, 12, 1)            0         ['tf.__operators__.getitem[0][\n",
      "  (SlicingOpLambda)                                                 0]']                          \n",
      "                                                                                                  \n",
      " tf.__operators__.getitem_3  (None, 12, 12, 1)            0         ['tf.__operators__.getitem_1[0\n",
      "  (SlicingOpLambda)                                                 ][0]']                        \n",
      "                                                                                                  \n",
      " tf.__operators__.getitem_4  (None, 12, 12, 1)            0         ['tf.__operators__.getitem[0][\n",
      "  (SlicingOpLambda)                                                 0]']                          \n",
      "                                                                                                  \n",
      " tf.__operators__.getitem_5  (None, 12, 12, 1)            0         ['tf.__operators__.getitem_1[0\n",
      "  (SlicingOpLambda)                                                 ][0]']                        \n",
      "                                                                                                  \n",
      " tf.__operators__.getitem_6  (None, 12, 12, 1)            0         ['tf.__operators__.getitem[0][\n",
      "  (SlicingOpLambda)                                                 0]']                          \n",
      "                                                                                                  \n",
      " tf.__operators__.getitem_7  (None, 12, 12, 1)            0         ['tf.__operators__.getitem_1[0\n",
      "  (SlicingOpLambda)                                                 ][0]']                        \n",
      "                                                                                                  \n",
      " tf.__operators__.getitem_8  (None, 12, 12, 1)            0         ['tf.__operators__.getitem[0][\n",
      "  (SlicingOpLambda)                                                 0]']                          \n",
      "                                                                                                  \n",
      " tf.__operators__.getitem_9  (None, 12, 12, 1)            0         ['tf.__operators__.getitem_1[0\n",
      "  (SlicingOpLambda)                                                 ][0]']                        \n",
      "                                                                                                  \n",
      " tf.__operators__.getitem_1  (None, 12, 12, 1)            0         ['tf.__operators__.getitem[0][\n",
      " 0 (SlicingOpLambda)                                                0]']                          \n",
      "                                                                                                  \n",
      " tf.__operators__.getitem_1  (None, 12, 12, 1)            0         ['tf.__operators__.getitem_1[0\n",
      " 1 (SlicingOpLambda)                                                ][0]']                        \n",
      "                                                                                                  \n",
      " conv2d (Conv2D)             (None, 12, 11, 1)            2         ['tf.__operators__.getitem_2[0\n",
      "                                                                    ][0]',                        \n",
      "                                                                     'tf.__operators__.getitem_3[0\n",
      "                                                                    ][0]']                        \n",
      "                                                                                                  \n",
      " conv2d_2 (Conv2D)           (None, 11, 12, 1)            2         ['tf.__operators__.getitem_4[0\n",
      "                                                                    ][0]',                        \n",
      "                                                                     'tf.__operators__.getitem_5[0\n",
      "                                                                    ][0]']                        \n",
      "                                                                                                  \n",
      " conv2d_1 (Conv2D)           (None, 12, 10, 1)            3         ['tf.__operators__.getitem_6[0\n",
      "                                                                    ][0]',                        \n",
      "                                                                     'tf.__operators__.getitem_7[0\n",
      "                                                                    ][0]']                        \n",
      "                                                                                                  \n",
      " conv2d_3 (Conv2D)           (None, 10, 12, 1)            3         ['tf.__operators__.getitem_8[0\n",
      "                                                                    ][0]',                        \n",
      "                                                                     'tf.__operators__.getitem_9[0\n",
      "                                                                    ][0]']                        \n",
      "                                                                                                  \n",
      " conv2d_4 (Conv2D)           (None, 11, 11, 1)            4         ['tf.__operators__.getitem_10[\n",
      "                                                                    0][0]',                       \n",
      "                                                                     'tf.__operators__.getitem_11[\n",
      "                                                                    0][0]']                       \n",
      "                                                                                                  \n",
      " input_2 (InputLayer)        [(None, 10, 10, 1)]          0         []                            \n",
      "                                                                                                  \n",
      " input_3 (InputLayer)        [(None, 10, 10, 1)]          0         []                            \n",
      "                                                                                                  \n",
      " tf.__operators__.getitem_1  (None, 10, 10, 1)            0         ['tf.__operators__.getitem[0][\n",
      " 2 (SlicingOpLambda)                                                0]']                          \n",
      "                                                                                                  \n",
      " tf.__operators__.getitem_1  (None, 10, 10, 1)            0         ['tf.__operators__.getitem_1[0\n",
      " 3 (SlicingOpLambda)                                                ][0]']                        \n",
      "                                                                                                  \n",
      " tf.__operators__.getitem_1  (None, 10, 10, 1)            0         ['conv2d[0][0]']              \n",
      " 4 (SlicingOpLambda)                                                                              \n",
      "                                                                                                  \n",
      " tf.__operators__.getitem_1  (None, 10, 10, 1)            0         ['conv2d[1][0]']              \n",
      " 5 (SlicingOpLambda)                                                                              \n",
      "                                                                                                  \n",
      " tf.__operators__.getitem_1  (None, 10, 10, 1)            0         ['conv2d_2[0][0]']            \n",
      " 6 (SlicingOpLambda)                                                                              \n",
      "                                                                                                  \n",
      " tf.__operators__.getitem_1  (None, 10, 10, 1)            0         ['conv2d_2[1][0]']            \n",
      " 7 (SlicingOpLambda)                                                                              \n",
      "                                                                                                  \n",
      " tf.__operators__.getitem_1  (None, 10, 10, 1)            0         ['conv2d_1[0][0]']            \n",
      " 8 (SlicingOpLambda)                                                                              \n",
      "                                                                                                  \n",
      " tf.__operators__.getitem_1  (None, 10, 10, 1)            0         ['conv2d_1[1][0]']            \n",
      " 9 (SlicingOpLambda)                                                                              \n",
      "                                                                                                  \n",
      " tf.__operators__.getitem_2  (None, 10, 10, 1)            0         ['conv2d_3[0][0]']            \n",
      " 0 (SlicingOpLambda)                                                                              \n",
      "                                                                                                  \n",
      " tf.__operators__.getitem_2  (None, 10, 10, 1)            0         ['conv2d_3[1][0]']            \n",
      " 1 (SlicingOpLambda)                                                                              \n",
      "                                                                                                  \n",
      " tf.__operators__.getitem_2  (None, 10, 10, 1)            0         ['conv2d_4[0][0]']            \n",
      " 2 (SlicingOpLambda)                                                                              \n",
      "                                                                                                  \n",
      " tf.__operators__.getitem_2  (None, 10, 10, 1)            0         ['conv2d_4[1][0]']            \n",
      " 3 (SlicingOpLambda)                                                                              \n",
      "                                                                                                  \n",
      "==================================================================================================\n",
      "Total params: 446 (1.74 KB)\n",
      "Trainable params: 432 (1.69 KB)\n",
      "Non-trainable params: 14 (56.00 Byte)\n",
      "__________________________________________________________________________________________________\n"
     ]
    }
   ],
   "source": [
    "def model_print_functoin(s):\n",
    "    with open('model_summary.txt','a') as f:\n",
    "        print(s, file=f)\n",
    "\n",
    "pde_model.summary(print_fn=model_print_functoin)\n",
    "pde_model.summary()"
   ]
  },
  {
   "cell_type": "markdown",
   "metadata": {},
   "source": [
    "# 6. Prepare the Training Data"
   ]
  },
  {
   "cell_type": "code",
   "execution_count": 29,
   "metadata": {},
   "outputs": [
    {
     "name": "stdout",
     "output_type": "stream",
     "text": [
      "(1, 1, 1, 1)\n"
     ]
    }
   ],
   "source": [
    "unit_constant = np.asarray([[[[1.0]]]],dtype=np.float32)\n",
    "training_input_data_0 = unit_constant\n",
    "print(training_input_data_0.shape)"
   ]
  },
  {
   "cell_type": "code",
   "execution_count": 30,
   "metadata": {},
   "outputs": [
    {
     "name": "stdout",
     "output_type": "stream",
     "text": [
      "(1, 10, 10, 1)\n"
     ]
    }
   ],
   "source": [
    "training_input_data_1 = np.expand_dims(x_mesh.astype(np.float32),axis=[0,-1])\n",
    "print(training_input_data_1.shape)"
   ]
  },
  {
   "cell_type": "code",
   "execution_count": 31,
   "metadata": {},
   "outputs": [
    {
     "name": "stdout",
     "output_type": "stream",
     "text": [
      "(1, 10, 10, 1)\n"
     ]
    }
   ],
   "source": [
    "training_input_data_2 = np.expand_dims(y_mesh.astype(np.float32),axis=[0,-1])\n",
    "print(training_input_data_2.shape)"
   ]
  },
  {
   "cell_type": "code",
   "execution_count": 32,
   "metadata": {},
   "outputs": [
    {
     "name": "stdout",
     "output_type": "stream",
     "text": [
      "(1, 40, 8)\n"
     ]
    }
   ],
   "source": [
    "training_input_data_3 = observation_data_interpolation_weights.astype(np.float32)\n",
    "print(training_input_data_3.shape)"
   ]
  },
  {
   "cell_type": "code",
   "execution_count": 33,
   "metadata": {},
   "outputs": [
    {
     "name": "stdout",
     "output_type": "stream",
     "text": [
      "(1, 10, 10, 1)\n"
     ]
    }
   ],
   "source": [
    "training_input_data_4 = np.expand_dims(governing_equation_mask.astype(np.float32),axis=[0,-1])\n",
    "print(training_input_data_2.shape)"
   ]
  },
  {
   "cell_type": "code",
   "execution_count": 34,
   "metadata": {},
   "outputs": [
    {
     "name": "stdout",
     "output_type": "stream",
     "text": [
      "(1, 10, 10, 1)\n"
     ]
    }
   ],
   "source": [
    "training_label_data_0 = np.expand_dims(fx.astype(np.float32),axis=[0,-1])\n",
    "print(training_label_data_0.shape)"
   ]
  },
  {
   "cell_type": "code",
   "execution_count": 35,
   "metadata": {},
   "outputs": [
    {
     "name": "stdout",
     "output_type": "stream",
     "text": [
      "(1, 40)\n"
     ]
    }
   ],
   "source": [
    "training_label_data_1 = np.expand_dims(np.asarray([data[3] for data in observation_data]),axis=[0])\n",
    "print(training_label_data_1.shape)"
   ]
  },
  {
   "cell_type": "code",
   "execution_count": 36,
   "metadata": {},
   "outputs": [],
   "source": [
    "training_input_data = [training_input_data_0,training_input_data_1,training_input_data_2,training_input_data_3,training_input_data_4]\n",
    "training_label_data = [training_label_data_0,training_label_data_1]"
   ]
  },
  {
   "cell_type": "markdown",
   "metadata": {},
   "source": [
    "# 7. Train the Model"
   ]
  },
  {
   "cell_type": "code",
   "execution_count": 37,
   "metadata": {},
   "outputs": [
    {
     "name": "stdout",
     "output_type": "stream",
     "text": [
      "['loss', 'tf.math.multiply_2_loss', 'lambda_12_loss']\n"
     ]
    }
   ],
   "source": [
    "pde_model_train.compile(optimizer=keras.optimizers.Adam(), loss=\"mse\")\n",
    "pde_model_train.save_weights('picn_initial_weights.h5')\n",
    "temp_history = pde_model_train.fit(x=training_input_data, y=training_label_data, epochs=1, verbose=0)\n",
    "history_keys = []\n",
    "for key in temp_history.history.keys():\n",
    "    history_keys.append(key)\n",
    "print(history_keys)"
   ]
  },
  {
   "cell_type": "code",
   "execution_count": 38,
   "metadata": {},
   "outputs": [],
   "source": [
    "def record_predictions():\n",
    "    [_, _, uxy, vxy, dudx, dvdx, dudy, dvdy, d2udx2, d2vdx2, d2udy2, d2vdy2, d2udxdy, d2vdxdy] = pde_model.predict(training_input_data[:3])\n",
    "    uxy_list.append(uxy[:,:,:,0])\n",
    "    vxy_list.append(vxy[:,:,:,0])\n",
    "    dudx_list.append(dudx[:,:,:,0])\n",
    "    dvdx_list.append(dvdx[:,:,:,0])\n",
    "    dudy_list.append(dudy[:,:,:,0])\n",
    "    dvdy_list.append(dvdy[:,:,:,0])\n",
    "    d2udx2_list.append(d2udx2[:,:,:,0])\n",
    "    d2vdx2_list.append(d2vdx2[:,:,:,0])\n",
    "    d2udy2_list.append(d2udy2[:,:,:,0])\n",
    "    d2vdy2_list.append(d2vdy2[:,:,:,0])\n",
    "    d2udxdy_list.append(d2udxdy[:,:,:,0])\n",
    "    d2vdxdy_list.append(d2vdxdy[:,:,:,0])\n",
    "\n",
    "class Per_X_Epoch_Record(tf.keras.callbacks.Callback):\n",
    "    def __init__(self, record_interval, verbose=1):\n",
    "        super(tf.keras.callbacks.Callback, self).__init__()\n",
    "        self.total_loss = history_keys[0]\n",
    "        self.domain_loss = history_keys[1]\n",
    "        self.bdc_loss = history_keys[2]\n",
    "        self.previous_total_loss = 9999999\n",
    "        self.record_interval = record_interval;\n",
    "        self.verbose = verbose\n",
    "\n",
    "    def on_epoch_end(self, epoch, logs={}):\n",
    "        \n",
    "        if epoch%self.record_interval == 0:\n",
    "            \n",
    "            current_total_loss = logs.get(self.total_loss)\n",
    "            current_domain_loss = logs.get(self.domain_loss)\n",
    "            current_bdc_loss = logs.get(self.bdc_loss)\n",
    "            \n",
    "            epoch_number_list.append(epoch)\n",
    "            total_loss_list.append(current_total_loss)\n",
    "            domain_loss_list.append(current_domain_loss)\n",
    "            boundary_loss_list.append(current_bdc_loss)\n",
    "        \n",
    "            if current_total_loss < self.previous_total_loss:\n",
    "                self.previous_total_loss = current_total_loss\n",
    "                pde_model_train.save_weights('picn_best_weights.h5')\n",
    "            \n",
    "            if self.verbose > 0:\n",
    "                print(\"epoch: {:10.6f} | total_loss: {:10.6f} | domain_loss: {:10.6f} | bdc_loss: {:10.6f}\".format(epoch,current_total_loss,current_domain_loss,current_bdc_loss))\n",
    "        \n",
    "            # evaluate the errors in f-domain\n",
    "            record_predictions()"
   ]
  },
  {
   "cell_type": "code",
   "execution_count": 39,
   "metadata": {},
   "outputs": [],
   "source": [
    "callbacks = [\n",
    "    Per_X_Epoch_Record(record_interval=200,verbose=1),\n",
    "]"
   ]
  },
  {
   "cell_type": "code",
   "execution_count": 40,
   "metadata": {
    "scrolled": false
   },
   "outputs": [
    {
     "name": "stdout",
     "output_type": "stream",
     "text": [
      "epoch:   0.000000 | total_loss:   4.718077 | domain_loss:  38.109207 | bdc_loss:   1.007952\n",
      "1/1 [==============================] - 0s 89ms/step\n",
      "epoch: 200.000000 | total_loss:   0.583364 | domain_loss:   0.212310 | bdc_loss:   0.624592\n",
      "1/1 [==============================] - 0s 10ms/step\n",
      "epoch: 400.000000 | total_loss:   0.320889 | domain_loss:   0.200456 | bdc_loss:   0.334270\n",
      "1/1 [==============================] - 0s 10ms/step\n",
      "epoch: 600.000000 | total_loss:   0.154046 | domain_loss:   0.188598 | bdc_loss:   0.150207\n",
      "1/1 [==============================] - 0s 11ms/step\n",
      "epoch: 800.000000 | total_loss:   0.072673 | domain_loss:   0.153261 | bdc_loss:   0.063719\n",
      "1/1 [==============================] - 0s 11ms/step\n",
      "epoch: 1000.000000 | total_loss:   0.036998 | domain_loss:   0.099915 | bdc_loss:   0.030007\n",
      "1/1 [==============================] - 0s 10ms/step\n",
      "epoch: 1200.000000 | total_loss:   0.020420 | domain_loss:   0.062186 | bdc_loss:   0.015779\n",
      "1/1 [==============================] - 0s 10ms/step\n",
      "epoch: 1400.000000 | total_loss:   0.012092 | domain_loss:   0.038923 | bdc_loss:   0.009110\n",
      "1/1 [==============================] - 0s 10ms/step\n",
      "epoch: 1600.000000 | total_loss:   0.007650 | domain_loss:   0.025440 | bdc_loss:   0.005673\n",
      "1/1 [==============================] - 0s 11ms/step\n",
      "epoch: 1800.000000 | total_loss:   0.005140 | domain_loss:   0.017548 | bdc_loss:   0.003761\n",
      "1/1 [==============================] - 0s 10ms/step\n",
      "epoch: 2000.000000 | total_loss:   0.003626 | domain_loss:   0.012632 | bdc_loss:   0.002626\n",
      "1/1 [==============================] - 0s 10ms/step\n",
      "epoch: 2200.000000 | total_loss:   0.002658 | domain_loss:   0.009384 | bdc_loss:   0.001910\n",
      "1/1 [==============================] - 0s 10ms/step\n",
      "epoch: 2400.000000 | total_loss:   0.002002 | domain_loss:   0.007113 | bdc_loss:   0.001434\n",
      "1/1 [==============================] - 0s 10ms/step\n",
      "epoch: 2600.000000 | total_loss:   0.001543 | domain_loss:   0.005486 | bdc_loss:   0.001105\n",
      "1/1 [==============================] - 0s 10ms/step\n",
      "epoch: 2800.000000 | total_loss:   0.001213 | domain_loss:   0.004285 | bdc_loss:   0.000872\n",
      "1/1 [==============================] - 0s 10ms/step\n",
      "epoch: 3000.000000 | total_loss:   0.000969 | domain_loss:   0.003382 | bdc_loss:   0.000701\n",
      "1/1 [==============================] - 0s 10ms/step\n",
      "epoch: 3200.000000 | total_loss:   0.000786 | domain_loss:   0.002700 | bdc_loss:   0.000573\n",
      "1/1 [==============================] - 0s 10ms/step\n",
      "epoch: 3400.000000 | total_loss:   0.000644 | domain_loss:   0.002180 | bdc_loss:   0.000473\n",
      "1/1 [==============================] - 0s 10ms/step\n",
      "epoch: 3600.000000 | total_loss:   0.000533 | domain_loss:   0.001774 | bdc_loss:   0.000395\n",
      "1/1 [==============================] - 0s 10ms/step\n",
      "epoch: 3800.000000 | total_loss:   0.000443 | domain_loss:   0.001452 | bdc_loss:   0.000331\n",
      "1/1 [==============================] - 0s 10ms/step\n",
      "epoch: 4000.000000 | total_loss:   0.000370 | domain_loss:   0.001195 | bdc_loss:   0.000278\n",
      "1/1 [==============================] - 0s 10ms/step\n",
      "epoch: 4200.000000 | total_loss:   0.000310 | domain_loss:   0.000987 | bdc_loss:   0.000235\n",
      "1/1 [==============================] - 0s 10ms/step\n",
      "epoch: 4400.000000 | total_loss:   0.000260 | domain_loss:   0.000818 | bdc_loss:   0.000198\n",
      "1/1 [==============================] - 0s 9ms/step\n",
      "epoch: 4600.000000 | total_loss:   0.000218 | domain_loss:   0.000680 | bdc_loss:   0.000167\n",
      "1/1 [==============================] - 0s 10ms/step\n",
      "epoch: 4800.000000 | total_loss:   0.000183 | domain_loss:   0.000567 | bdc_loss:   0.000141\n",
      "1/1 [==============================] - 0s 11ms/step\n",
      "epoch: 5000.000000 | total_loss:   0.000154 | domain_loss:   0.000474 | bdc_loss:   0.000119\n",
      "1/1 [==============================] - 0s 10ms/step\n",
      "epoch: 5200.000000 | total_loss:   0.000130 | domain_loss:   0.000398 | bdc_loss:   0.000100\n",
      "1/1 [==============================] - 0s 10ms/step\n",
      "epoch: 5400.000000 | total_loss:   0.000109 | domain_loss:   0.000335 | bdc_loss:   0.000084\n",
      "1/1 [==============================] - 0s 10ms/step\n",
      "epoch: 5600.000000 | total_loss:   0.000092 | domain_loss:   0.000284 | bdc_loss:   0.000071\n",
      "1/1 [==============================] - 0s 10ms/step\n",
      "epoch: 5800.000000 | total_loss:   0.000078 | domain_loss:   0.000241 | bdc_loss:   0.000060\n",
      "1/1 [==============================] - 0s 10ms/step\n",
      "epoch: 6000.000000 | total_loss:   0.000067 | domain_loss:   0.000206 | bdc_loss:   0.000051\n",
      "1/1 [==============================] - 0s 10ms/step\n",
      "epoch: 6200.000000 | total_loss:   0.000057 | domain_loss:   0.000177 | bdc_loss:   0.000043\n",
      "1/1 [==============================] - 0s 10ms/step\n",
      "epoch: 6400.000000 | total_loss:   0.000049 | domain_loss:   0.000154 | bdc_loss:   0.000037\n",
      "1/1 [==============================] - 0s 10ms/step\n",
      "epoch: 6600.000000 | total_loss:   0.000042 | domain_loss:   0.000134 | bdc_loss:   0.000032\n",
      "1/1 [==============================] - 0s 11ms/step\n",
      "epoch: 6800.000000 | total_loss:   0.000036 | domain_loss:   0.000118 | bdc_loss:   0.000027\n",
      "1/1 [==============================] - 0s 10ms/step\n",
      "epoch: 7000.000000 | total_loss:   0.000031 | domain_loss:   0.000104 | bdc_loss:   0.000023\n",
      "1/1 [==============================] - 0s 10ms/step\n",
      "epoch: 7200.000000 | total_loss:   0.000028 | domain_loss:   0.000093 | bdc_loss:   0.000020\n",
      "1/1 [==============================] - 0s 10ms/step\n",
      "epoch: 7400.000000 | total_loss:   0.000024 | domain_loss:   0.000084 | bdc_loss:   0.000018\n",
      "1/1 [==============================] - 0s 10ms/step\n",
      "epoch: 7600.000000 | total_loss:   0.000021 | domain_loss:   0.000076 | bdc_loss:   0.000015\n",
      "1/1 [==============================] - 0s 10ms/step\n",
      "epoch: 7800.000000 | total_loss:   0.000019 | domain_loss:   0.000069 | bdc_loss:   0.000014\n",
      "1/1 [==============================] - 0s 10ms/step\n",
      "epoch: 8000.000000 | total_loss:   0.000017 | domain_loss:   0.000063 | bdc_loss:   0.000012\n",
      "1/1 [==============================] - 0s 10ms/step\n",
      "epoch: 8200.000000 | total_loss:   0.000015 | domain_loss:   0.000058 | bdc_loss:   0.000011\n",
      "1/1 [==============================] - 0s 10ms/step\n",
      "epoch: 8400.000000 | total_loss:   0.000014 | domain_loss:   0.000053 | bdc_loss:   0.000010\n",
      "1/1 [==============================] - 0s 10ms/step\n",
      "epoch: 8600.000000 | total_loss:   0.000013 | domain_loss:   0.000049 | bdc_loss:   0.000009\n",
      "1/1 [==============================] - 0s 10ms/step\n",
      "epoch: 8800.000000 | total_loss:   0.000012 | domain_loss:   0.000046 | bdc_loss:   0.000008\n",
      "1/1 [==============================] - 0s 10ms/step\n",
      "epoch: 9000.000000 | total_loss:   0.000011 | domain_loss:   0.000042 | bdc_loss:   0.000007\n",
      "1/1 [==============================] - 0s 10ms/step\n",
      "epoch: 9200.000000 | total_loss:   0.000010 | domain_loss:   0.000040 | bdc_loss:   0.000006\n",
      "1/1 [==============================] - 0s 10ms/step\n",
      "epoch: 9400.000000 | total_loss:   0.000009 | domain_loss:   0.000037 | bdc_loss:   0.000006\n",
      "1/1 [==============================] - 0s 10ms/step\n",
      "epoch: 9600.000000 | total_loss:   0.000008 | domain_loss:   0.000035 | bdc_loss:   0.000005\n",
      "1/1 [==============================] - 0s 10ms/step\n",
      "epoch: 9800.000000 | total_loss:   0.000008 | domain_loss:   0.000033 | bdc_loss:   0.000005\n",
      "1/1 [==============================] - 0s 10ms/step\n",
      "epoch: 10000.000000 | total_loss:   0.000007 | domain_loss:   0.000031 | bdc_loss:   0.000005\n",
      "1/1 [==============================] - 0s 10ms/step\n",
      "epoch: 10200.000000 | total_loss:   0.000007 | domain_loss:   0.000029 | bdc_loss:   0.000004\n",
      "1/1 [==============================] - 0s 10ms/step\n",
      "epoch: 10400.000000 | total_loss:   0.000006 | domain_loss:   0.000028 | bdc_loss:   0.000004\n",
      "1/1 [==============================] - 0s 10ms/step\n",
      "epoch: 10600.000000 | total_loss:   0.000006 | domain_loss:   0.000026 | bdc_loss:   0.000004\n",
      "1/1 [==============================] - 0s 9ms/step\n",
      "epoch: 10800.000000 | total_loss:   0.000006 | domain_loss:   0.000025 | bdc_loss:   0.000003\n",
      "1/1 [==============================] - 0s 10ms/step\n",
      "epoch: 11000.000000 | total_loss:   0.000005 | domain_loss:   0.000024 | bdc_loss:   0.000003\n",
      "1/1 [==============================] - 0s 11ms/step\n",
      "epoch: 11200.000000 | total_loss:   0.000005 | domain_loss:   0.000022 | bdc_loss:   0.000003\n",
      "1/1 [==============================] - 0s 10ms/step\n",
      "epoch: 11400.000000 | total_loss:   0.000005 | domain_loss:   0.000021 | bdc_loss:   0.000003\n",
      "1/1 [==============================] - 0s 9ms/step\n",
      "epoch: 11600.000000 | total_loss:   0.000004 | domain_loss:   0.000020 | bdc_loss:   0.000003\n",
      "1/1 [==============================] - 0s 9ms/step\n",
      "epoch: 11800.000000 | total_loss:   0.000004 | domain_loss:   0.000020 | bdc_loss:   0.000003\n",
      "1/1 [==============================] - 0s 10ms/step\n",
      "epoch: 12000.000000 | total_loss:   0.000004 | domain_loss:   0.000019 | bdc_loss:   0.000002\n",
      "1/1 [==============================] - 0s 10ms/step\n",
      "epoch: 12200.000000 | total_loss:   0.000004 | domain_loss:   0.000018 | bdc_loss:   0.000002\n",
      "1/1 [==============================] - 0s 10ms/step\n",
      "epoch: 12400.000000 | total_loss:   0.000004 | domain_loss:   0.000017 | bdc_loss:   0.000002\n",
      "1/1 [==============================] - 0s 10ms/step\n",
      "epoch: 12600.000000 | total_loss:   0.000004 | domain_loss:   0.000017 | bdc_loss:   0.000002\n",
      "1/1 [==============================] - 0s 10ms/step\n",
      "epoch: 12800.000000 | total_loss:   0.000003 | domain_loss:   0.000016 | bdc_loss:   0.000002\n",
      "1/1 [==============================] - 0s 11ms/step\n",
      "epoch: 13000.000000 | total_loss:   0.000003 | domain_loss:   0.000016 | bdc_loss:   0.000002\n",
      "1/1 [==============================] - 0s 10ms/step\n",
      "epoch: 13200.000000 | total_loss:   0.000003 | domain_loss:   0.000016 | bdc_loss:   0.000002\n",
      "1/1 [==============================] - 0s 10ms/step\n",
      "epoch: 13400.000000 | total_loss:   0.000003 | domain_loss:   0.000015 | bdc_loss:   0.000002\n",
      "1/1 [==============================] - 0s 10ms/step\n",
      "epoch: 13600.000000 | total_loss:   0.000003 | domain_loss:   0.000015 | bdc_loss:   0.000002\n",
      "1/1 [==============================] - 0s 10ms/step\n",
      "epoch: 13800.000000 | total_loss:   0.000003 | domain_loss:   0.000015 | bdc_loss:   0.000002\n",
      "1/1 [==============================] - 0s 9ms/step\n",
      "epoch: 14000.000000 | total_loss:   0.000003 | domain_loss:   0.000014 | bdc_loss:   0.000002\n",
      "1/1 [==============================] - 0s 9ms/step\n",
      "epoch: 14200.000000 | total_loss:   0.000003 | domain_loss:   0.000014 | bdc_loss:   0.000002\n",
      "1/1 [==============================] - 0s 10ms/step\n",
      "epoch: 14400.000000 | total_loss:   0.000003 | domain_loss:   0.000014 | bdc_loss:   0.000002\n",
      "1/1 [==============================] - 0s 10ms/step\n",
      "epoch: 14600.000000 | total_loss:   0.000003 | domain_loss:   0.000014 | bdc_loss:   0.000002\n",
      "1/1 [==============================] - 0s 10ms/step\n",
      "epoch: 14800.000000 | total_loss:   0.000003 | domain_loss:   0.000014 | bdc_loss:   0.000002\n",
      "1/1 [==============================] - 0s 11ms/step\n",
      "epoch: 15000.000000 | total_loss:   0.000003 | domain_loss:   0.000014 | bdc_loss:   0.000001\n",
      "1/1 [==============================] - 0s 10ms/step\n",
      "epoch: 15200.000000 | total_loss:   0.000003 | domain_loss:   0.000014 | bdc_loss:   0.000001\n",
      "1/1 [==============================] - 0s 10ms/step\n",
      "epoch: 15400.000000 | total_loss:   0.000003 | domain_loss:   0.000014 | bdc_loss:   0.000001\n",
      "1/1 [==============================] - 0s 9ms/step\n",
      "epoch: 15600.000000 | total_loss:   0.000003 | domain_loss:   0.000014 | bdc_loss:   0.000001\n",
      "1/1 [==============================] - 0s 10ms/step\n",
      "epoch: 15800.000000 | total_loss:   0.000003 | domain_loss:   0.000014 | bdc_loss:   0.000001\n",
      "1/1 [==============================] - 0s 10ms/step\n",
      "epoch: 16000.000000 | total_loss:   0.000003 | domain_loss:   0.000014 | bdc_loss:   0.000001\n",
      "1/1 [==============================] - 0s 9ms/step\n",
      "epoch: 16200.000000 | total_loss:   0.000003 | domain_loss:   0.000013 | bdc_loss:   0.000001\n",
      "1/1 [==============================] - 0s 10ms/step\n",
      "epoch: 16400.000000 | total_loss:   0.000003 | domain_loss:   0.000013 | bdc_loss:   0.000001\n",
      "1/1 [==============================] - 0s 10ms/step\n",
      "epoch: 16600.000000 | total_loss:   0.000003 | domain_loss:   0.000014 | bdc_loss:   0.000001\n",
      "1/1 [==============================] - 0s 9ms/step\n",
      "epoch: 16800.000000 | total_loss:   0.000003 | domain_loss:   0.000014 | bdc_loss:   0.000001\n",
      "1/1 [==============================] - 0s 10ms/step\n",
      "epoch: 17000.000000 | total_loss:   0.000003 | domain_loss:   0.000013 | bdc_loss:   0.000001\n",
      "1/1 [==============================] - 0s 10ms/step\n",
      "epoch: 17200.000000 | total_loss:   0.000003 | domain_loss:   0.000013 | bdc_loss:   0.000001\n",
      "1/1 [==============================] - 0s 12ms/step\n",
      "epoch: 17400.000000 | total_loss:   0.000003 | domain_loss:   0.000013 | bdc_loss:   0.000001\n",
      "1/1 [==============================] - 0s 10ms/step\n",
      "epoch: 17600.000000 | total_loss:   0.000003 | domain_loss:   0.000014 | bdc_loss:   0.000001\n",
      "1/1 [==============================] - 0s 10ms/step\n",
      "epoch: 17800.000000 | total_loss:   0.000003 | domain_loss:   0.000013 | bdc_loss:   0.000001\n",
      "1/1 [==============================] - 0s 10ms/step\n",
      "epoch: 18000.000000 | total_loss:   0.000003 | domain_loss:   0.000014 | bdc_loss:   0.000001\n",
      "1/1 [==============================] - 0s 9ms/step\n",
      "epoch: 18200.000000 | total_loss:   0.000003 | domain_loss:   0.000013 | bdc_loss:   0.000001\n",
      "1/1 [==============================] - 0s 9ms/step\n",
      "epoch: 18400.000000 | total_loss:   0.000003 | domain_loss:   0.000013 | bdc_loss:   0.000001\n",
      "1/1 [==============================] - 0s 10ms/step\n",
      "epoch: 18600.000000 | total_loss:   0.000003 | domain_loss:   0.000013 | bdc_loss:   0.000001\n",
      "1/1 [==============================] - 0s 10ms/step\n",
      "epoch: 18800.000000 | total_loss:   0.000003 | domain_loss:   0.000013 | bdc_loss:   0.000001\n",
      "1/1 [==============================] - 0s 10ms/step\n",
      "epoch: 19000.000000 | total_loss:   0.000003 | domain_loss:   0.000013 | bdc_loss:   0.000001\n",
      "1/1 [==============================] - 0s 10ms/step\n",
      "epoch: 19200.000000 | total_loss:   0.000003 | domain_loss:   0.000013 | bdc_loss:   0.000001\n",
      "1/1 [==============================] - 0s 10ms/step\n",
      "epoch: 19400.000000 | total_loss:   0.000003 | domain_loss:   0.000013 | bdc_loss:   0.000001\n",
      "1/1 [==============================] - 0s 10ms/step\n",
      "epoch: 19600.000000 | total_loss:   0.000003 | domain_loss:   0.000013 | bdc_loss:   0.000001\n",
      "1/1 [==============================] - 0s 9ms/step\n",
      "epoch: 19800.000000 | total_loss:   0.000003 | domain_loss:   0.000013 | bdc_loss:   0.000001\n",
      "1/1 [==============================] - 0s 10ms/step\n",
      "Training time cost:   41.51507 seconds\n"
     ]
    }
   ],
   "source": [
    "epoch_number_list = []\n",
    "total_loss_list = []\n",
    "domain_loss_list = []\n",
    "boundary_loss_list = []\n",
    "uxy_list = []\n",
    "vxy_list = []\n",
    "dudx_list = []\n",
    "dvdx_list = []\n",
    "dudy_list = []\n",
    "dvdy_list = []\n",
    "d2udx2_list = []\n",
    "d2vdx2_list = []\n",
    "d2udy2_list = []\n",
    "d2vdy2_list = []\n",
    "d2udxdy_list = []\n",
    "d2vdxdy_list = []\n",
    "pde_model_train.load_weights('picn_initial_weights.h5')\n",
    "pde_model_train.compile(optimizer=keras.optimizers.Adam(learning_rate=0.001), loss=\"mse\", loss_weights = [0.1, 0.9])\n",
    "\n",
    "# Record the training time cost\n",
    "start = time.time()\n",
    "\n",
    "# Training\n",
    "pde_model_train.fit(x=training_input_data, \n",
    "                    y=training_label_data, \n",
    "                    epochs=20000, verbose=0,\n",
    "                    callbacks=callbacks)\n",
    "\n",
    "# Record the training time cost\n",
    "end = time.time()\n",
    "print(\"Training time cost: {:10.5f} seconds\".format(end - start))\n",
    "time_costs_text_file = open(\"time_costs.txt\", \"w\")\n",
    "time_costs_text_file.write(\"Training time cost: {:10.5f} seconds\".format(end - start))\n",
    "time_costs_text_file.close()\n",
    "\n",
    "# Load the best weights\n",
    "pde_model_train.load_weights('picn_best_weights.h5')"
   ]
  },
  {
   "cell_type": "markdown",
   "metadata": {},
   "source": [
    "# 8. LOSS"
   ]
  },
  {
   "cell_type": "code",
   "execution_count": 41,
   "metadata": {},
   "outputs": [
    {
     "data": {
      "image/png": "[encoded data removed]",
      "text/plain": [
       "<Figure size 1200x400 with 1 Axes>"
      ]
     },
     "metadata": {},
     "output_type": "display_data"
    }
   ],
   "source": [
    "df=pd.DataFrame({'epoch': epoch_number_list, \n",
    "                 'total_loss': total_loss_list, \n",
    "                 'governing_loss': domain_loss_list, \n",
    "                 'boundary_loss': boundary_loss_list})\n",
    "\n",
    "plt.figure(figsize=(12, 4))\n",
    "plt.plot( 'epoch', 'total_loss', data=df, marker='o', markerfacecolor='red', markersize=2, color='skyblue', linewidth=3)\n",
    "plt.plot( 'epoch', 'governing_loss', data=df, marker='', color='green', linewidth=2, linestyle='dashed')\n",
    "plt.plot( 'epoch', 'boundary_loss', data=df, marker='', color='blue', linewidth=2, linestyle='dashed')\n",
    "plt.legend()\n",
    "#plt.xscale('log')\n",
    "plt.yscale('log')\n",
    "plt.show()"
   ]
  },
  {
   "cell_type": "code",
   "execution_count": 42,
   "metadata": {},
   "outputs": [
    {
     "name": "stdout",
     "output_type": "stream",
     "text": [
      "1/1 [==============================] - 0s 10ms/step\n"
     ]
    }
   ],
   "source": [
    "[_, _, uxy, vxy, dudx, dvdx, dudy, dvdy, d2udx2, d2vdx2, d2udy2, d2vdy2, d2udxdy, d2vdxdy] = pde_model.predict(training_input_data[:3])"
   ]
  },
  {
   "cell_type": "markdown",
   "metadata": {},
   "source": [
    "# 9. Results overview"
   ]
  },
  {
   "cell_type": "code",
   "execution_count": 43,
   "metadata": {
    "scrolled": false
   },
   "outputs": [
    {
     "data": {
      "text/plain": [
       "Text(0, 0.5, 'y')"
      ]
     },
     "execution_count": 43,
     "metadata": {},
     "output_type": "execute_result"
    },
    {
     "data": {
      "image/png": "[encoded data removed]",
      "text/plain": [
       "<Figure size 1400x1200 with 8 Axes>"
      ]
     },
     "metadata": {},
     "output_type": "display_data"
    }
   ],
   "source": [
    "fig, axs = plt.subplots(2,2,constrained_layout=False, figsize=(14, 12))\n",
    "#\n",
    "ax = axs.ravel()[0]\n",
    "cs = ax.contourf(x_domain, y_domain, uxy[0,:,:,0],20)\n",
    "fig.colorbar(cs, ax=ax, shrink=0.9)\n",
    "ax.set_xlabel('x')\n",
    "ax.set_ylabel('y')\n",
    "#\n",
    "ax = axs.ravel()[1]\n",
    "cs = ax.contourf(x_domain, y_domain, U(x_mesh,y_mesh),20)\n",
    "fig.colorbar(cs, ax=ax, shrink=0.9)\n",
    "ax.set_xlabel('x')\n",
    "ax.set_ylabel('y')\n",
    "#\n",
    "ax = axs.ravel()[2]\n",
    "cs = ax.contourf(x_domain, y_domain, vxy[0,:,:,0],20)\n",
    "fig.colorbar(cs, ax=ax, shrink=0.9)\n",
    "ax.set_xlabel('x')\n",
    "ax.set_ylabel('y')\n",
    "#\n",
    "ax = axs.ravel()[3]\n",
    "cs = ax.contourf(x_domain, y_domain, V(x_mesh,y_mesh),20)\n",
    "fig.colorbar(cs, ax=ax, shrink=0.9)\n",
    "ax.set_xlabel('x')\n",
    "ax.set_ylabel('y')"
   ]
  },
  {
   "cell_type": "code",
   "execution_count": null,
   "metadata": {},
   "outputs": [],
   "source": []
  },
  {
   "cell_type": "code",
   "execution_count": 44,
   "metadata": {},
   "outputs": [
    {
     "name": "stdout",
     "output_type": "stream",
     "text": [
      "1/1 [==============================] - 0s 11ms/step\n"
     ]
    }
   ],
   "source": [
    "X = pde_model.predict(training_input_data[:3])"
   ]
  },
  {
   "cell_type": "code",
   "execution_count": 45,
   "metadata": {},
   "outputs": [],
   "source": [
    "V1 = (X[4]+X[11]+X[3]-(X[2]**2+X[3]**2)*X[3])**2\n",
    "V2 = (X[5]-X[10]-X[2]+(X[2]**2+X[3]**2)*X[2])**2\n",
    "V12 = V1+V2"
   ]
  },
  {
   "cell_type": "code",
   "execution_count": 46,
   "metadata": {},
   "outputs": [
    {
     "data": {
      "text/plain": [
       "0.0029186802"
      ]
     },
     "execution_count": 46,
     "metadata": {},
     "output_type": "execute_result"
    }
   ],
   "source": [
    "V12.mean()"
   ]
  },
  {
   "cell_type": "code",
   "execution_count": null,
   "metadata": {},
   "outputs": [],
   "source": []
  },
  {
   "cell_type": "code",
   "execution_count": null,
   "metadata": {},
   "outputs": [],
   "source": []
  },
  {
   "cell_type": "code",
   "execution_count": 47,
   "metadata": {},
   "outputs": [
    {
     "data": {
      "text/plain": [
       "Text(0, 0.5, 'y')"
      ]
     },
     "execution_count": 47,
     "metadata": {},
     "output_type": "execute_result"
    },
    {
     "data": {
      "image/png": "[encoded data removed]",
      "text/plain": [
       "<Figure size 1400x500 with 8 Axes>"
      ]
     },
     "metadata": {},
     "output_type": "display_data"
    }
   ],
   "source": [
    "fig, axs = plt.subplots(2,2,constrained_layout=False, figsize=(14, 5))\n",
    "#\n",
    "ax = axs.ravel()[0]\n",
    "cs = ax.contourf(x_domain, y_domain, V1[0,:,:,0],20)\n",
    "fig.colorbar(cs, ax=ax, shrink=0.9)\n",
    "ax.set_xlabel('x')\n",
    "ax.set_ylabel('y')\n",
    "#\n",
    "ax = axs.ravel()[1]\n",
    "cs = ax.contourf(x_domain, y_domain, V12[0,:,:,0],20)\n",
    "fig.colorbar(cs, ax=ax, shrink=0.9)\n",
    "ax.set_xlabel('x')\n",
    "ax.set_ylabel('y')\n",
    "#\n",
    "ax = axs.ravel()[2]\n",
    "cs = ax.contourf(x_domain, y_domain, V2[0,:,:,0],20)\n",
    "fig.colorbar(cs, ax=ax, shrink=0.9)\n",
    "ax.set_xlabel('x')\n",
    "ax.set_ylabel('y')\n",
    "#\n",
    "ax = axs.ravel()[3]\n",
    "cs = ax.contourf(x_domain, y_domain, V12[0,:,:,0],20)\n",
    "fig.colorbar(cs, ax=ax, shrink=0.9)\n",
    "ax.set_xlabel('x')\n",
    "ax.set_ylabel('y')"
   ]
  },
  {
   "cell_type": "code",
   "execution_count": 48,
   "metadata": {},
   "outputs": [
    {
     "name": "stdout",
     "output_type": "stream",
     "text": [
      "1/1 [==============================] - 0s 97ms/step\n"
     ]
    }
   ],
   "source": [
    "V_train = pde_model_train.predict(training_input_data)"
   ]
  },
  {
   "cell_type": "code",
   "execution_count": 49,
   "metadata": {},
   "outputs": [
    {
     "data": {
      "text/plain": [
       "[array([[[[1.1215750e-06],\n",
       "          [3.9537113e-07],\n",
       "          [2.7639860e-06],\n",
       "          [5.7126608e-06],\n",
       "          [4.0969758e-06],\n",
       "          [4.1386274e-06],\n",
       "          [3.6201732e-06],\n",
       "          [6.0353395e-06],\n",
       "          [8.5937154e-06],\n",
       "          [7.9471083e-06]],\n",
       " \n",
       "         [[2.6629963e-03],\n",
       "          [2.7911691e-03],\n",
       "          [2.8043143e-03],\n",
       "          [2.6515217e-03],\n",
       "          [2.5595922e-03],\n",
       "          [2.3757298e-03],\n",
       "          [2.1363869e-03],\n",
       "          [1.9160900e-03],\n",
       "          [1.5875002e-03],\n",
       "          [5.5763223e-05]],\n",
       " \n",
       "         [[4.5327158e-03],\n",
       "          [4.5563434e-03],\n",
       "          [4.2826952e-03],\n",
       "          [4.2302054e-03],\n",
       "          [3.9841481e-03],\n",
       "          [3.6555917e-03],\n",
       "          [3.4084665e-03],\n",
       "          [2.8407478e-03],\n",
       "          [2.4916695e-03],\n",
       "          [8.5590946e-05]],\n",
       " \n",
       "         [[6.3353786e-03],\n",
       "          [5.7272874e-03],\n",
       "          [5.6080781e-03],\n",
       "          [5.2720145e-03],\n",
       "          [4.9168216e-03],\n",
       "          [4.6380530e-03],\n",
       "          [3.9247442e-03],\n",
       "          [3.5539402e-03],\n",
       "          [2.8597913e-03],\n",
       "          [8.0843078e-05]],\n",
       " \n",
       "         [[7.1467613e-03],\n",
       "          [6.6391462e-03],\n",
       "          [6.2756473e-03],\n",
       "          [5.9052869e-03],\n",
       "          [5.5803331e-03],\n",
       "          [4.8254859e-03],\n",
       "          [4.4410853e-03],\n",
       "          [3.6399516e-03],\n",
       "          [3.0183166e-03],\n",
       "          [7.3001735e-05]],\n",
       " \n",
       "         [[7.0925886e-03],\n",
       "          [6.8947347e-03],\n",
       "          [6.4517530e-03],\n",
       "          [6.1297501e-03],\n",
       "          [5.3727408e-03],\n",
       "          [4.9565905e-03],\n",
       "          [4.1117007e-03],\n",
       "          [3.5084493e-03],\n",
       "          [2.8434230e-03],\n",
       "          [9.2428818e-05]],\n",
       " \n",
       "         [[6.1816610e-03],\n",
       "          [6.2828641e-03],\n",
       "          [6.1594937e-03],\n",
       "          [5.4696277e-03],\n",
       "          [5.0503700e-03],\n",
       "          [4.2212666e-03],\n",
       "          [3.6911452e-03],\n",
       "          [3.0376310e-03],\n",
       "          [2.4347040e-03],\n",
       "          [1.7039553e-04]],\n",
       " \n",
       "         [[4.5453478e-03],\n",
       "          [5.3168726e-03],\n",
       "          [4.9633430e-03],\n",
       "          [4.5666029e-03],\n",
       "          [3.8644874e-03],\n",
       "          [3.4212950e-03],\n",
       "          [2.8194217e-03],\n",
       "          [2.3250764e-03],\n",
       "          [1.8995894e-03],\n",
       "          [1.7480532e-04]],\n",
       " \n",
       "         [[2.9113968e-03],\n",
       "          [3.3804222e-03],\n",
       "          [3.2697292e-03],\n",
       "          [2.8790813e-03],\n",
       "          [2.5464238e-03],\n",
       "          [2.0974842e-03],\n",
       "          [1.7797361e-03],\n",
       "          [1.4730375e-03],\n",
       "          [1.2098418e-03],\n",
       "          [1.0431271e-04]],\n",
       " \n",
       "         [[3.4762252e-07],\n",
       "          [5.9813419e-06],\n",
       "          [6.0003146e-07],\n",
       "          [4.9966502e-06],\n",
       "          [3.4558147e-06],\n",
       "          [3.6382908e-06],\n",
       "          [5.3438785e-06],\n",
       "          [6.7566370e-06],\n",
       "          [1.1108316e-05],\n",
       "          [8.5493912e-06]]]], dtype=float32),\n",
       " array([[9.7842538e-04, 1.6412408e-03, 1.6151496e-03, 1.5634592e-03,\n",
       "         1.4919367e-03, 1.3945943e-03, 1.2667784e-03, 1.1194109e-03,\n",
       "         9.5525139e-04, 2.3907663e-05, 9.7842538e-04, 7.4704224e-04,\n",
       "         1.3771662e-03, 2.0107261e-03, 2.2845888e-03, 2.0062218e-03,\n",
       "         1.2428940e-03, 4.2377095e-04, 1.9000552e-04, 1.0693392e-03,\n",
       "         1.0693392e-03, 2.0255300e-03, 1.9324851e-03, 1.7114775e-03,\n",
       "         1.4752697e-03, 1.2525643e-03, 1.0495095e-03, 8.6787774e-04,\n",
       "         7.1528240e-04, 4.1187574e-05, 2.3907663e-05, 4.3544293e-04,\n",
       "         6.8922737e-04, 7.8175910e-04, 8.1463729e-04, 8.0805423e-04,\n",
       "         6.1641389e-04, 5.8838533e-04, 3.3237509e-04, 4.1187574e-05]],\n",
       "       dtype=float32)]"
      ]
     },
     "execution_count": 49,
     "metadata": {},
     "output_type": "execute_result"
    }
   ],
   "source": [
    "V_train"
   ]
  },
  {
   "cell_type": "code",
   "execution_count": null,
   "metadata": {},
   "outputs": [],
   "source": []
  },
  {
   "cell_type": "markdown",
   "metadata": {},
   "source": [
    "# 10. Save the Process Data"
   ]
  },
  {
   "cell_type": "code",
   "execution_count": 50,
   "metadata": {},
   "outputs": [],
   "source": [
    "picn_process_data = {'x_domain':x_domain,\n",
    "                     'y_domain':y_domain,\n",
    "                     'epoch_number_list':np.asarray(epoch_number_list),\n",
    "                     'total_loss_list':np.asarray(total_loss_list),\n",
    "                     'domain_loss_list':np.asarray(domain_loss_list),\n",
    "                     'boundary_loss_list':np.asarray(boundary_loss_list),\n",
    "                     'uxy_list':np.concatenate(uxy_list,axis=0),\n",
    "                     'vxy_list':np.concatenate(vxy_list,axis=0),\n",
    "                     'dudx_list':np.concatenate(dudx_list,axis=0),\n",
    "                     'dvdx_list':np.concatenate(dvdx_list,axis=0),\n",
    "                     'dudy_list':np.concatenate(dudy_list,axis=0),\n",
    "                     'dvdy_list':np.concatenate(dvdy_list,axis=0),\n",
    "                     'd2udx2_list':np.concatenate(d2udx2_list,axis=0),\n",
    "                     'd2vdx2_list':np.concatenate(d2vdx2_list,axis=0),\n",
    "                     'd2udy2_list':np.concatenate(d2udy2_list,axis=0),\n",
    "                     'd2vdy2_list':np.concatenate(d2vdy2_list,axis=0),\n",
    "                     'd2udxdy_list':np.concatenate(d2udxdy_list,axis=0),\n",
    "                     'd2vdxdy_list':np.concatenate(d2vdxdy_list,axis=0)}\n",
    "savemat('picn_process_data.mat', picn_process_data)"
   ]
  },
  {
   "cell_type": "code",
   "execution_count": null,
   "metadata": {},
   "outputs": [],
   "source": []
  }
 ],
 "metadata": {
  "kernelspec": {
   "display_name": "Python 3",
   "language": "python",
   "name": "python3"
  },
  "language_info": {
   "codemirror_mode": {
    "name": "ipython",
    "version": 3
   },
   "file_extension": ".py",
   "mimetype": "text/x-python",
   "name": "python",
   "nbconvert_exporter": "python",
   "pygments_lexer": "ipython3",
   "version": "3.8.3"
  }
 },
 "nbformat": 4,
 "nbformat_minor": 5
}
