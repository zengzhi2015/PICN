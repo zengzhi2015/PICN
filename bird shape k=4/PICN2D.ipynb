{
 "cells": [
  {
   "cell_type": "markdown",
   "id": "0b21e6e9",
   "metadata": {},
   "source": [
    "# 0. Import Libraries"
   ]
  },
  {
   "cell_type": "code",
   "execution_count": null,
   "id": "a2370c44",
   "metadata": {},
   "outputs": [],
   "source": [
    "%pip install pandas\n",
    "%pip install matplotlib"
   ]
  },
  {
   "cell_type": "code",
   "execution_count": 1,
   "id": "a5101882",
   "metadata": {},
   "outputs": [],
   "source": [
    "import tensorflow as tf\n",
    "import tensorflow.keras as keras\n",
    "from tensorflow.keras import backend as K\n",
    "from tensorflow.keras.layers import *\n",
    "\n",
    "import numpy as np\n",
    "import pandas as pd\n",
    "from scipy.io import loadmat\n",
    "from scipy.io import savemat\n",
    "import math\n",
    "\n",
    "import matplotlib.pyplot as plt\n",
    "import matplotlib.pyplot as plt\n",
    "from matplotlib import cm\n",
    "from matplotlib.ticker import LinearLocator\n",
    "\n",
    "import time"
   ]
  },
  {
   "cell_type": "code",
   "execution_count": 2,
   "id": "9a461153",
   "metadata": {},
   "outputs": [],
   "source": [
    "from numpy.random import seed\n",
    "seed(0)\n",
    "tf.random.set_seed(0)"
   ]
  },
  {
   "cell_type": "markdown",
   "id": "90e0a62c",
   "metadata": {},
   "source": [
    "# 1. Define Something in Advance"
   ]
  },
  {
   "cell_type": "code",
   "execution_count": 3,
   "id": "984f2c23",
   "metadata": {},
   "outputs": [],
   "source": [
    "def rho_theta(theta):\n",
    "    return np.exp(np.sin(theta))*np.sin(3*theta)**2+np.exp(np.cos(theta))*np.cos(3*theta)**2\n",
    "    \n",
    "def rho_xy(x,y):\n",
    "    return rho_theta(np.angle(x+y*1j))\n",
    "\n",
    "def x_theta(theta):\n",
    "    return rho_theta(theta)*np.cos(theta)\n",
    "\n",
    "def y_theta(theta):\n",
    "    return rho_theta(theta)*np.sin(theta)\n",
    "\n",
    "def R(x,y):\n",
    "    return np.sqrt(x**2+y**2)\n",
    "\n",
    "def U(x,y):\n",
    "    return np.cos(k*x*y+k*y)"
   ]
  },
  {
   "cell_type": "markdown",
   "id": "52694299",
   "metadata": {},
   "source": [
    "# 2. Initialize the Grid"
   ]
  },
  {
   "cell_type": "code",
   "execution_count": 4,
   "id": "cb09ad87",
   "metadata": {},
   "outputs": [],
   "source": [
    "delta = 0.02\n",
    "x_domain = np.arange(-2, 3, delta)\n",
    "y_domain = np.arange(-2, 3, delta)\n",
    "x_mesh,y_mesh = np.meshgrid(x_domain, y_domain)"
   ]
  },
  {
   "cell_type": "markdown",
   "id": "aff173b7",
   "metadata": {},
   "source": [
    "# 3. Define Physical Info."
   ]
  },
  {
   "cell_type": "markdown",
   "id": "45a38f16",
   "metadata": {},
   "source": [
    "    suppose: \n",
    "    x = x[0];\n",
    "    y = x[1];\n",
    "    uxy = x[2]; \n",
    "    dudx = x[3];\n",
    "    dudy = x[4];\n",
    "    du2dx2 = x[5];\n",
    "    du2dy2 = x[6];\n",
    "    du2dxdy = x[7];\n",
    "    laplace = x[8]"
   ]
  },
  {
   "cell_type": "code",
   "execution_count": 5,
   "id": "143fcddc",
   "metadata": {},
   "outputs": [],
   "source": [
    "k=5\n",
    "governing_equation_components = []\n",
    "governing_equation_components.append(Lambda(lambda x: x[8]))\n",
    "governing_equation_components.append(Lambda(lambda x: tf.sin(x[2]**2)))"
   ]
  },
  {
   "cell_type": "code",
   "execution_count": 6,
   "id": "060ca25b",
   "metadata": {},
   "outputs": [],
   "source": [
    "governing_equation_mask = R(x_mesh,y_mesh)<=rho_xy(x_mesh,y_mesh)"
   ]
  },
  {
   "cell_type": "markdown",
   "id": "3cc3d13c",
   "metadata": {},
   "source": [
    "#fx = governing_equation_mask*(4*np.exp(-x_mesh-y_mesh)-(k+k*x_mesh)**2*np.cos(x_mesh+k*y_mesh+k*x_mesh*y_mesh)-(k+k*y_mesh)**2*np.cos(x_mesh+k*y_mesh+k*x_mesh*y_mesh))\n",
    "fx=x_mesh*0"
   ]
  },
  {
   "cell_type": "code",
   "execution_count": 7,
   "id": "605e023c",
   "metadata": {},
   "outputs": [],
   "source": [
    "fx = governing_equation_mask*(\n",
    "    -np.cos(k*y_mesh+k*x_mesh*y_mesh)*(k+k*x_mesh)**2-k**2*y_mesh**2*np.cos(k*y_mesh+k*x_mesh*y_mesh)\n",
    "    +np.sin(np.cos(k*y_mesh+k*x_mesh*y_mesh)**2))"
   ]
  },
  {
   "cell_type": "code",
   "execution_count": 8,
   "id": "d2faaa4a",
   "metadata": {},
   "outputs": [],
   "source": [
    "estimate_equation_form = False\n",
    "equation_component_combination = [1.0,1.0]"
   ]
  },
  {
   "cell_type": "markdown",
   "id": "a647c8f2",
   "metadata": {},
   "source": [
    "# 4. Define the Observations"
   ]
  },
  {
   "cell_type": "markdown",
   "id": "ee89c021",
   "metadata": {},
   "source": [
    "    suppose: \n",
    "    x = x[0];\n",
    "    y = x[1];\n",
    "    uxy = x[2]; \n",
    "    dudx = x[3];\n",
    "    dudy = x[4];\n",
    "    du2dx2 = x[5];\n",
    "    du2dy2 = x[6];\n",
    "    du2dxdy = x[7];\n",
    "    laplace = x[8]"
   ]
  },
  {
   "cell_type": "code",
   "execution_count": 9,
   "id": "28d1ac32",
   "metadata": {},
   "outputs": [],
   "source": [
    "observation_components = []\n",
    "observation_components.append(Lambda(lambda x: x[2]))\n",
    "observation_components.append(Lambda(lambda x: x[3]))\n",
    "observation_components.append(Lambda(lambda x: x[4]))"
   ]
  },
  {
   "cell_type": "markdown",
   "id": "41dc785c",
   "metadata": {},
   "source": [
    "    format: [x,y,combination,value]"
   ]
  },
  {
   "cell_type": "code",
   "execution_count": 10,
   "id": "ed3a00f8",
   "metadata": {},
   "outputs": [],
   "source": [
    "observation_data = []\n",
    "\n",
    "theta_list = np.linspace(0,np.pi*2,800)\n",
    "for theta in theta_list:\n",
    "    x = x_theta(theta)\n",
    "    y = y_theta(theta)\n",
    "    comb = [1,0,0]\n",
    "    v = U(x,y)\n",
    "    observation_data.append([x,y,comb,v])"
   ]
  },
  {
   "cell_type": "markdown",
   "id": "2270ab5c",
   "metadata": {},
   "source": [
    "# 5. Define PICN"
   ]
  },
  {
   "cell_type": "code",
   "execution_count": 11,
   "id": "c05580e3",
   "metadata": {},
   "outputs": [],
   "source": [
    "def gradient_x_kernal_init(shape, dtype=tf.float32):\n",
    "    return tf.constant([[[[-1.0/delta]], [[1.0/delta]]]], dtype=dtype)"
   ]
  },
  {
   "cell_type": "code",
   "execution_count": 12,
   "id": "bb1cf4d3",
   "metadata": {},
   "outputs": [],
   "source": [
    "def gradient_x2_kernal_init(shape, dtype=tf.float32):\n",
    "    return tf.constant([[[[1.0/delta**2]], [[-2.0/delta**2]], [[1.0/delta**2]]]], dtype=dtype)"
   ]
  },
  {
   "cell_type": "code",
   "execution_count": 13,
   "id": "2ed662f8",
   "metadata": {},
   "outputs": [],
   "source": [
    "def gradient_y_kernal_init(shape, dtype=tf.float32):\n",
    "    return tf.constant([[[[-1.0/delta]]], [[[1.0/delta]]]], dtype=dtype)"
   ]
  },
  {
   "cell_type": "code",
   "execution_count": 14,
   "id": "bbbbf69d",
   "metadata": {},
   "outputs": [],
   "source": [
    "def gradient_y2_kernal_init(shape, dtype=tf.float32):\n",
    "    return tf.constant([[[[1.0/delta**2]]], [[[-2.0/delta**2]]], [[[1.0/delta**2]]]], dtype=dtype)"
   ]
  },
  {
   "cell_type": "code",
   "execution_count": 15,
   "id": "7f852ff4",
   "metadata": {},
   "outputs": [],
   "source": [
    "def gradient_xy_kernal_init(shape, dtype=tf.float32):\n",
    "    return tf.constant([[[[1.0/delta**2]], [[-1.0/delta**2]]], [[[-1.0/delta**2]], [[1.0/delta**2]]]], dtype=dtype)"
   ]
  },
  {
   "cell_type": "code",
   "execution_count": 16,
   "id": "4fac796a",
   "metadata": {},
   "outputs": [],
   "source": [
    "def laplace_kernal_init(shape, dtype=tf.float32):\n",
    "    return tf.constant([[[[0]], [[1.0/delta**2]], [[0]]], [[[1.0/delta**2]], [[-4.0/delta**2]], [[1.0/delta**2]]], [[[0]], [[1.0/delta**2]], [[0]]]], dtype=dtype)"
   ]
  },
  {
   "cell_type": "code",
   "execution_count": 17,
   "id": "858a79b1",
   "metadata": {},
   "outputs": [],
   "source": [
    "inputs = [keras.layers.Input(shape=(1,1,1)),\n",
    "          keras.layers.Input(shape=(len(y_domain),len(x_domain),1)),\n",
    "          keras.layers.Input(shape=(len(y_domain),len(x_domain),1)),\n",
    "          keras.layers.Input(shape=(len(observation_data),len(observation_components)*4)),\n",
    "          keras.layers.Input(shape=(len(y_domain),len(x_domain),1))]\n",
    "\n",
    "hidden_field = keras.layers.Conv2DTranspose(filters=1, \n",
    "                                            kernel_size=[len(y_domain)+4,len(x_domain)+4], \n",
    "                                            activation='linear')(inputs[0])\n",
    "coordinates_x = inputs[1]\n",
    "coordinates_y = inputs[2]\n",
    "field = keras.layers.Conv2D(filters=1, \n",
    "                            kernel_size=3, \n",
    "                            padding='valid', \n",
    "                            activation=Lambda(lambda x: x+tf.tanh(x)))(hidden_field)\n",
    "gradient_x_field = keras.layers.Conv2D(filters=1, \n",
    "                                     kernel_size=[1,2], \n",
    "                                     padding='valid',\n",
    "                                     use_bias=False,\n",
    "                                     trainable=False,\n",
    "                                     kernel_initializer=gradient_x_kernal_init)(field)\n",
    "gradient_x2_field = keras.layers.Conv2D(filters=1, \n",
    "                                       kernel_size=[1,3], \n",
    "                                       padding='valid',\n",
    "                                       use_bias=False,\n",
    "                                       trainable=False,\n",
    "                                       kernel_initializer=gradient_x2_kernal_init)(field)\n",
    "gradient_y_field = keras.layers.Conv2D(filters=1, \n",
    "                                     kernel_size=[2,1], \n",
    "                                     padding='valid',\n",
    "                                     use_bias=False,\n",
    "                                     trainable=False,\n",
    "                                     kernel_initializer=gradient_y_kernal_init)(field)\n",
    "gradient_y2_field = keras.layers.Conv2D(filters=1, \n",
    "                                       kernel_size=[3,1], \n",
    "                                       padding='valid',\n",
    "                                       use_bias=False,\n",
    "                                       trainable=False,\n",
    "                                       kernel_initializer=gradient_y2_kernal_init)(field)\n",
    "gradient_xy_field = keras.layers.Conv2D(filters=1, \n",
    "                                       kernel_size=[2,2], \n",
    "                                       padding='valid',\n",
    "                                       use_bias=False,\n",
    "                                       trainable=False,\n",
    "                                       kernel_initializer=gradient_xy_kernal_init)(field)\n",
    "laplace_field = keras.layers.Conv2D(filters=1, \n",
    "                                       kernel_size=[3,3], \n",
    "                                       padding='valid',\n",
    "                                       use_bias=False,\n",
    "                                       trainable=False,\n",
    "                                       kernel_initializer=laplace_kernal_init)(field)\n",
    "phycial_fields = [coordinates_x,\n",
    "                  coordinates_y,\n",
    "                  field[:,1:-1,1:-1,:],\n",
    "                  gradient_x_field[:,1:-1,1:,:],\n",
    "                  gradient_y_field[:,1:,1:-1,:],\n",
    "                  gradient_x2_field[:,1:-1,:,:],\n",
    "                  gradient_y2_field[:,:,1:-1,:],\n",
    "                  gradient_xy_field[:,1:,1:,:],\n",
    "                  laplace_field]"
   ]
  },
  {
   "cell_type": "code",
   "execution_count": 18,
   "id": "f9985fe3",
   "metadata": {},
   "outputs": [],
   "source": [
    "if estimate_equation_form==True:\n",
    "    tf_governing_equation_components = [component(phycial_fields) for component in governing_equation_components]\n",
    "    concat_equation_components = Lambda(lambda x: tf.concat(x,axis=-1))(tf_governing_equation_components)\n",
    "    governing_equation = keras.layers.Conv2D(filters=1, \n",
    "                                             kernel_size=[1,1], \n",
    "                                             padding='valid',\n",
    "                                             use_bias=False)(concat_equation_components)*inputs[4]\n",
    "else:\n",
    "    tf_weighted_governing_equation_components = [weight*component(phycial_fields) for [weight,component] in zip(equation_component_combination,governing_equation_components)]\n",
    "    concat_weighted_equation_components = Lambda(lambda x: tf.concat(x,axis=-1))(tf_weighted_governing_equation_components)\n",
    "    governing_equation = Lambda(lambda x: tf.reduce_sum(x,axis=-1,keepdims=True))(concat_weighted_equation_components)*inputs[4]"
   ]
  },
  {
   "cell_type": "code",
   "execution_count": 19,
   "id": "0acc5d42",
   "metadata": {},
   "outputs": [],
   "source": [
    "tf_observation_components = [component(phycial_fields) for component in observation_components]\n",
    "concat_observation_components = Lambda(lambda x: tf.concat(x,axis=-1))(tf_observation_components)"
   ]
  },
  {
   "cell_type": "code",
   "execution_count": 20,
   "id": "ccbe78d8",
   "metadata": {},
   "outputs": [],
   "source": [
    "left_x_position_index_list = []\n",
    "right_x_position_index_list = []\n",
    "left_x_position_weight_list = []\n",
    "right_x_position_weight_list = []\n",
    "\n",
    "bottom_y_position_index_list = []\n",
    "top_y_position_index_list = []\n",
    "bottom_y_position_weight_list = []\n",
    "top_y_position_weight_list = []\n",
    "\n",
    "\n",
    "for data in observation_data:\n",
    "    \n",
    "    left_x_position_index = int(np.floor((data[0] - x_domain[0])/delta))\n",
    "    right_x_position_index = left_x_position_index + 1\n",
    "    left_x_position_weight = 1-(data[0] - (x_domain[0]+delta*left_x_position_index))/delta\n",
    "    right_x_position_weight = 1-left_x_position_weight\n",
    "    \n",
    "    bottom_y_position_index = int(np.floor((data[1] - y_domain[0])/delta))\n",
    "    top_y_position_index = bottom_y_position_index + 1\n",
    "    bottom_y_position_weight = 1-(data[1] - (y_domain[0]+delta*bottom_y_position_index))/delta\n",
    "    top_y_position_weight = 1-bottom_y_position_weight\n",
    "    \n",
    "    if data[0] <= x_domain[0] + 1e-8:\n",
    "        left_x_position_index = 0\n",
    "        right_x_position_index = 1\n",
    "        left_x_position_weight = 1\n",
    "        right_x_position_weight = 0\n",
    "    if data[0] >= x_domain[-1] - 1e-8:\n",
    "        left_x_position_index = len(x_domain)-2\n",
    "        right_x_position_index = len(x_domain)-1\n",
    "        left_x_position_weight = 0\n",
    "        right_x_position_weight = 1\n",
    "    if data[1] <= y_domain[0] + 1e-8:\n",
    "        bottom_y_position_index = 0\n",
    "        top_y_position_index = 1\n",
    "        bottom_y_position_weight = 1\n",
    "        top_y_position_weight = 0\n",
    "    if data[1] >= y_domain[-1] - 1e-8:\n",
    "        bottom_y_position_index = len(y_domain)-2\n",
    "        top_y_position_index = len(y_domain)-1\n",
    "        bottom_y_position_weight = 0\n",
    "        top_y_position_weight = 1\n",
    "    \n",
    "    left_x_position_index_list.append(left_x_position_index)\n",
    "    right_x_position_index_list.append(right_x_position_index)\n",
    "    left_x_position_weight_list.append(left_x_position_weight)\n",
    "    right_x_position_weight_list.append(right_x_position_weight)\n",
    "\n",
    "    bottom_y_position_index_list.append(bottom_y_position_index)\n",
    "    top_y_position_index_list.append(top_y_position_index)\n",
    "    bottom_y_position_weight_list.append(bottom_y_position_weight)\n",
    "    top_y_position_weight_list.append(top_y_position_weight)"
   ]
  },
  {
   "cell_type": "code",
   "execution_count": 21,
   "id": "07f61683",
   "metadata": {},
   "outputs": [],
   "source": [
    "left_bottom_indices = tf.constant([[0,y,x] for x,y in zip(left_x_position_index_list,bottom_y_position_index_list)])\n",
    "left_top_indices = tf.constant([[0,y,x] for x,y in zip(left_x_position_index_list,top_y_position_index_list)])\n",
    "right_bottom_indices = tf.constant([[0,y,x] for x,y in zip(right_x_position_index_list,bottom_y_position_index_list)])\n",
    "right_top_indices = tf.constant([[0,y,x] for x,y in zip(right_x_position_index_list,top_y_position_index_list)])"
   ]
  },
  {
   "cell_type": "code",
   "execution_count": 22,
   "id": "5d7fafb6",
   "metadata": {},
   "outputs": [],
   "source": [
    "observation_data_left_bottom_part = Lambda(lambda x: tf.gather_nd(x,left_bottom_indices))(concat_observation_components)\n",
    "observation_data_left_top_part = Lambda(lambda x: tf.gather_nd(x,left_top_indices))(concat_observation_components)\n",
    "observation_data_right_bottom_part = Lambda(lambda x: tf.gather_nd(x,right_bottom_indices))(concat_observation_components)\n",
    "observation_data_right_top_part = Lambda(lambda x: tf.gather_nd(x,right_top_indices))(concat_observation_components)"
   ]
  },
  {
   "cell_type": "code",
   "execution_count": 23,
   "id": "b31ebd19",
   "metadata": {},
   "outputs": [],
   "source": [
    "observation_data_four_part = Lambda(lambda x: tf.expand_dims(tf.concat(x,axis=-1),axis=0))([observation_data_left_bottom_part,observation_data_left_top_part,observation_data_right_bottom_part,observation_data_right_top_part])"
   ]
  },
  {
   "cell_type": "code",
   "execution_count": 24,
   "id": "1459fbc8",
   "metadata": {},
   "outputs": [],
   "source": [
    "observation_data_interpolation_weights = np.expand_dims(\n",
    "np.asarray([np.concatenate([(np.asarray([observation_data[i][2][j] for j in range(len(observation_components))]))*left_x_position_weight_list[i]*bottom_y_position_weight_list[i],\n",
    " (np.asarray([observation_data[i][2][j] for j in range(len(observation_components))]))*left_x_position_weight_list[i]*top_y_position_weight_list[i],\n",
    " (np.asarray([observation_data[i][2][j] for j in range(len(observation_components))]))*right_x_position_weight_list[i]*bottom_y_position_weight_list[i],\n",
    " (np.asarray([observation_data[i][2][j] for j in range(len(observation_components))]))*right_x_position_weight_list[i]*top_y_position_weight_list[i]],axis=-1) for i in range(len(observation_data))]),\n",
    "    axis=0)"
   ]
  },
  {
   "cell_type": "code",
   "execution_count": 25,
   "id": "e39b91a6",
   "metadata": {},
   "outputs": [],
   "source": [
    "observations = Lambda(lambda x: tf.reduce_sum(x[0]*x[1],axis=-1))([inputs[3][0,:,:],observation_data_four_part])"
   ]
  },
  {
   "cell_type": "code",
   "execution_count": 26,
   "id": "c2c9be15",
   "metadata": {},
   "outputs": [],
   "source": [
    "pde_model = keras.Model(inputs=inputs[:3], outputs=phycial_fields)\n",
    "pde_model_train = keras.Model(inputs=inputs, outputs=[governing_equation,observations])"
   ]
  },
  {
   "cell_type": "code",
   "execution_count": 27,
   "id": "159479c1",
   "metadata": {},
   "outputs": [
    {
     "name": "stdout",
     "output_type": "stream",
     "text": [
      "Model: \"model\"\n",
      "__________________________________________________________________________________________________\n",
      " Layer (type)                Output Shape                 Param #   Connected to                  \n",
      "==================================================================================================\n",
      " input_1 (InputLayer)        [(None, 1, 1, 1)]            0         []                            \n",
      "                                                                                                  \n",
      " conv2d_transpose (Conv2DTr  (None, 254, 254, 1)          64517     ['input_1[0][0]']             \n",
      " anspose)                                                                                         \n",
      "                                                                                                  \n",
      " conv2d (Conv2D)             (None, 252, 252, 1)          10        ['conv2d_transpose[0][0]']    \n",
      "                                                                                                  \n",
      " conv2d_1 (Conv2D)           (None, 252, 251, 1)          2         ['conv2d[0][0]']              \n",
      "                                                                                                  \n",
      " conv2d_3 (Conv2D)           (None, 251, 252, 1)          2         ['conv2d[0][0]']              \n",
      "                                                                                                  \n",
      " conv2d_2 (Conv2D)           (None, 252, 250, 1)          3         ['conv2d[0][0]']              \n",
      "                                                                                                  \n",
      " conv2d_4 (Conv2D)           (None, 250, 252, 1)          3         ['conv2d[0][0]']              \n",
      "                                                                                                  \n",
      " conv2d_5 (Conv2D)           (None, 251, 251, 1)          4         ['conv2d[0][0]']              \n",
      "                                                                                                  \n",
      " input_2 (InputLayer)        [(None, 250, 250, 1)]        0         []                            \n",
      "                                                                                                  \n",
      " input_3 (InputLayer)        [(None, 250, 250, 1)]        0         []                            \n",
      "                                                                                                  \n",
      " tf.__operators__.getitem (  (None, 250, 250, 1)          0         ['conv2d[0][0]']              \n",
      " SlicingOpLambda)                                                                                 \n",
      "                                                                                                  \n",
      " tf.__operators__.getitem_1  (None, 250, 250, 1)          0         ['conv2d_1[0][0]']            \n",
      "  (SlicingOpLambda)                                                                               \n",
      "                                                                                                  \n",
      " tf.__operators__.getitem_2  (None, 250, 250, 1)          0         ['conv2d_3[0][0]']            \n",
      "  (SlicingOpLambda)                                                                               \n",
      "                                                                                                  \n",
      " tf.__operators__.getitem_3  (None, 250, 250, 1)          0         ['conv2d_2[0][0]']            \n",
      "  (SlicingOpLambda)                                                                               \n",
      "                                                                                                  \n",
      " tf.__operators__.getitem_4  (None, 250, 250, 1)          0         ['conv2d_4[0][0]']            \n",
      "  (SlicingOpLambda)                                                                               \n",
      "                                                                                                  \n",
      " tf.__operators__.getitem_5  (None, 250, 250, 1)          0         ['conv2d_5[0][0]']            \n",
      "  (SlicingOpLambda)                                                                               \n",
      "                                                                                                  \n",
      " conv2d_6 (Conv2D)           (None, 250, 250, 1)          9         ['conv2d[0][0]']              \n",
      "                                                                                                  \n",
      "==================================================================================================\n",
      "Total params: 64550 (252.15 KB)\n",
      "Trainable params: 64527 (252.06 KB)\n",
      "Non-trainable params: 23 (92.00 Byte)\n",
      "__________________________________________________________________________________________________\n"
     ]
    }
   ],
   "source": [
    "def model_print_functoin(s):\n",
    "    with open('model_summary.txt','a') as f:\n",
    "        print(s, file=f)\n",
    "\n",
    "pde_model.summary(print_fn=model_print_functoin)\n",
    "pde_model.summary()"
   ]
  },
  {
   "cell_type": "markdown",
   "id": "8dbf6c1e",
   "metadata": {},
   "source": [
    "# 6. Prepare the Training Data"
   ]
  },
  {
   "cell_type": "code",
   "execution_count": 28,
   "id": "e13964ba",
   "metadata": {},
   "outputs": [
    {
     "name": "stdout",
     "output_type": "stream",
     "text": [
      "(1, 1, 1, 1)\n"
     ]
    }
   ],
   "source": [
    "unit_constant = np.asarray([[[[1.0]]]],dtype=np.float32)\n",
    "training_input_data_0 = unit_constant\n",
    "print(training_input_data_0.shape)"
   ]
  },
  {
   "cell_type": "code",
   "execution_count": 29,
   "id": "03abae6b",
   "metadata": {},
   "outputs": [
    {
     "name": "stdout",
     "output_type": "stream",
     "text": [
      "(1, 250, 250, 1)\n"
     ]
    }
   ],
   "source": [
    "training_input_data_1 = np.expand_dims(x_mesh.astype(np.float32),axis=[0,-1])\n",
    "print(training_input_data_1.shape)"
   ]
  },
  {
   "cell_type": "code",
   "execution_count": 30,
   "id": "bfb2a398",
   "metadata": {},
   "outputs": [
    {
     "name": "stdout",
     "output_type": "stream",
     "text": [
      "(1, 250, 250, 1)\n"
     ]
    }
   ],
   "source": [
    "training_input_data_2 = np.expand_dims(y_mesh.astype(np.float32),axis=[0,-1])\n",
    "print(training_input_data_2.shape)"
   ]
  },
  {
   "cell_type": "code",
   "execution_count": 31,
   "id": "1e42e21c",
   "metadata": {},
   "outputs": [
    {
     "name": "stdout",
     "output_type": "stream",
     "text": [
      "(1, 800, 12)\n"
     ]
    }
   ],
   "source": [
    "training_input_data_3 = observation_data_interpolation_weights.astype(np.float32)\n",
    "print(training_input_data_3.shape)"
   ]
  },
  {
   "cell_type": "code",
   "execution_count": 32,
   "id": "d7a8b07b",
   "metadata": {},
   "outputs": [
    {
     "name": "stdout",
     "output_type": "stream",
     "text": [
      "(1, 250, 250, 1)\n"
     ]
    }
   ],
   "source": [
    "training_input_data_4 = np.expand_dims(governing_equation_mask.astype(np.float32),axis=[0,-1])\n",
    "print(training_input_data_2.shape)"
   ]
  },
  {
   "cell_type": "code",
   "execution_count": 33,
   "id": "83251413",
   "metadata": {},
   "outputs": [
    {
     "name": "stdout",
     "output_type": "stream",
     "text": [
      "(1, 250, 250, 1)\n"
     ]
    }
   ],
   "source": [
    "training_label_data_0 = np.expand_dims(fx.astype(np.float32),axis=[0,-1])\n",
    "print(training_label_data_0.shape)"
   ]
  },
  {
   "cell_type": "code",
   "execution_count": 34,
   "id": "09992122",
   "metadata": {},
   "outputs": [
    {
     "name": "stdout",
     "output_type": "stream",
     "text": [
      "(1, 800)\n"
     ]
    }
   ],
   "source": [
    "training_label_data_1 = np.expand_dims(np.asarray([data[3] for data in observation_data]),axis=[0])\n",
    "print(training_label_data_1.shape)"
   ]
  },
  {
   "cell_type": "code",
   "execution_count": 35,
   "id": "3ae901b2",
   "metadata": {},
   "outputs": [],
   "source": [
    "training_input_data = [training_input_data_0,training_input_data_1,training_input_data_2,training_input_data_3,training_input_data_4]\n",
    "training_label_data = [training_label_data_0,training_label_data_1]"
   ]
  },
  {
   "cell_type": "markdown",
   "id": "7d3ecd9a",
   "metadata": {},
   "source": [
    "# 7. Train the Model"
   ]
  },
  {
   "cell_type": "code",
   "execution_count": 36,
   "id": "da87972b",
   "metadata": {},
   "outputs": [
    {
     "name": "stdout",
     "output_type": "stream",
     "text": [
      "['loss', 'tf.math.multiply_2_loss', 'lambda_14_loss']\n"
     ]
    }
   ],
   "source": [
    "pde_model_train.compile(optimizer=keras.optimizers.Adam(), loss=\"mse\")\n",
    "pde_model_train.save_weights('picn_initial_weights.h5')\n",
    "temp_history = pde_model_train.fit(x=training_input_data, y=training_label_data, epochs=1, verbose=0)\n",
    "history_keys = []\n",
    "for key in temp_history.history.keys():\n",
    "    history_keys.append(key)\n",
    "print(history_keys)"
   ]
  },
  {
   "cell_type": "code",
   "execution_count": 37,
   "id": "daa7785a",
   "metadata": {},
   "outputs": [],
   "source": [
    "def record_predictions():\n",
    "    [_, _, uxy, dudx, dudy, d2udx2, d2udy2, d2udxdy, laplace] = pde_model.predict(training_input_data[:3])\n",
    "    uxy_list.append(uxy[:,:,:,0])\n",
    "    dudx_list.append(dudx[:,:,:,0])\n",
    "    dudy_list.append(dudy[:,:,:,0])\n",
    "    d2udx2_list.append(d2udx2[:,:,:,0])\n",
    "    d2udy2_list.append(d2udy2[:,:,:,0])\n",
    "    d2udxdy_list.append(d2udxdy[:,:,:,0])\n",
    "    laplace_list.append(laplace[:,:,:,0])\n",
    "\n",
    "class Per_X_Epoch_Record(tf.keras.callbacks.Callback):\n",
    "    def __init__(self, record_interval, verbose=1):\n",
    "        super(tf.keras.callbacks.Callback, self).__init__()\n",
    "        self.total_loss = history_keys[0]\n",
    "        self.domain_loss = history_keys[1]\n",
    "        self.bdc_loss = history_keys[2]\n",
    "        self.previous_total_loss = 9999999\n",
    "        self.record_interval = record_interval\n",
    "        self.verbose = verbose\n",
    "\n",
    "    def on_epoch_end(self, epoch, logs={}):\n",
    "        \n",
    "        if epoch%self.record_interval == 0:\n",
    "            \n",
    "            current_total_loss = logs.get(self.total_loss)\n",
    "            current_domain_loss = logs.get(self.domain_loss)\n",
    "            current_bdc_loss = logs.get(self.bdc_loss)\n",
    "            \n",
    "            epoch_number_list.append(epoch)\n",
    "            total_loss_list.append(current_total_loss)\n",
    "            domain_loss_list.append(current_domain_loss)\n",
    "            boundary_loss_list.append(current_bdc_loss)\n",
    "        \n",
    "            if current_total_loss < self.previous_total_loss:\n",
    "                self.previous_total_loss = current_total_loss\n",
    "                pde_model_train.save_weights('picn_best_weights.h5')\n",
    "            \n",
    "            if self.verbose > 0:\n",
    "                print(\"epoch: {:10.5f} | total_loss: {:10.5f} | domain_loss: {:10.5f} | bdc_loss: {:10.5f}\".format(epoch,current_total_loss,current_domain_loss,current_bdc_loss))\n",
    "        \n",
    "            # evaluate the errors in f-domain\n",
    "            record_predictions()"
   ]
  },
  {
   "cell_type": "code",
   "execution_count": 38,
   "id": "2dfa38e9",
   "metadata": {},
   "outputs": [],
   "source": [
    "callbacks = [\n",
    "    Per_X_Epoch_Record(record_interval=200,verbose=1),\n",
    "]"
   ]
  },
  {
   "cell_type": "code",
   "execution_count": 39,
   "id": "09eccbbe",
   "metadata": {
    "scrolled": false
   },
   "outputs": [
    {
     "name": "stdout",
     "output_type": "stream",
     "text": [
      "epoch:    0.00000 | total_loss:   35.25377 | domain_loss: 3475.48364 | bdc_loss:    0.50397\n",
      "1/1 [==============================] - 0s 63ms/step\n",
      "epoch:  200.00000 | total_loss:   20.42955 | domain_loss: 1993.05139 | bdc_loss:    0.50408\n",
      "1/1 [==============================] - 0s 11ms/step\n",
      "epoch:  400.00000 | total_loss:   19.81922 | domain_loss: 1931.58020 | bdc_loss:    0.50850\n",
      "1/1 [==============================] - 0s 12ms/step\n",
      "epoch:  600.00000 | total_loss:   19.35318 | domain_loss: 1884.31165 | bdc_loss:    0.51521\n",
      "1/1 [==============================] - 0s 12ms/step\n",
      "epoch:  800.00000 | total_loss:   18.92377 | domain_loss: 1840.56189 | bdc_loss:    0.52338\n",
      "1/1 [==============================] - 0s 12ms/step\n",
      "epoch: 1000.00000 | total_loss:   18.47827 | domain_loss: 1795.08765 | bdc_loss:    0.53272\n",
      "1/1 [==============================] - 0s 12ms/step\n",
      "epoch: 1200.00000 | total_loss:   17.95890 | domain_loss: 1742.09900 | bdc_loss:    0.54334\n",
      "1/1 [==============================] - 0s 12ms/step\n",
      "epoch: 1400.00000 | total_loss:   17.25977 | domain_loss: 1670.96826 | bdc_loss:    0.55565\n",
      "1/1 [==============================] - 0s 12ms/step\n",
      "epoch: 1600.00000 | total_loss:   16.18876 | domain_loss: 1562.38977 | bdc_loss:    0.57056\n",
      "1/1 [==============================] - 0s 14ms/step\n",
      "epoch: 1800.00000 | total_loss:   14.54748 | domain_loss: 1396.44751 | bdc_loss:    0.58889\n",
      "1/1 [==============================] - 0s 12ms/step\n",
      "epoch: 2000.00000 | total_loss:   12.39264 | domain_loss: 1178.95410 | bdc_loss:    0.60919\n",
      "1/1 [==============================] - 0s 12ms/step\n",
      "epoch: 2200.00000 | total_loss:   10.07697 | domain_loss:  945.62866 | bdc_loss:    0.62695\n",
      "1/1 [==============================] - 0s 11ms/step\n",
      "epoch: 2400.00000 | total_loss:    7.94612 | domain_loss:  731.48047 | bdc_loss:    0.63769\n",
      "1/1 [==============================] - 0s 13ms/step\n",
      "epoch: 2600.00000 | total_loss:    6.14862 | domain_loss:  551.58636 | bdc_loss:    0.63915\n",
      "1/1 [==============================] - 0s 12ms/step\n",
      "epoch: 2800.00000 | total_loss:    4.71586 | domain_loss:  409.13248 | bdc_loss:    0.63084\n",
      "1/1 [==============================] - 0s 12ms/step\n",
      "epoch: 3000.00000 | total_loss:    3.62276 | domain_loss:  301.52939 | bdc_loss:    0.61360\n",
      "1/1 [==============================] - 0s 12ms/step\n",
      "epoch: 3200.00000 | total_loss:    2.80074 | domain_loss:  221.81169 | bdc_loss:    0.58851\n",
      "1/1 [==============================] - 0s 12ms/step\n",
      "epoch: 3400.00000 | total_loss:    2.18478 | domain_loss:  163.35303 | bdc_loss:    0.55682\n",
      "1/1 [==============================] - 0s 12ms/step\n",
      "epoch: 3600.00000 | total_loss:    1.71851 | domain_loss:  120.36890 | bdc_loss:    0.52002\n",
      "1/1 [==============================] - 0s 12ms/step\n",
      "epoch: 3800.00000 | total_loss:    1.36403 | domain_loss:   88.92278 | bdc_loss:    0.47959\n",
      "1/1 [==============================] - 0s 12ms/step\n",
      "epoch: 4000.00000 | total_loss:    1.09282 | domain_loss:   66.00907 | bdc_loss:    0.43710\n",
      "1/1 [==============================] - 0s 12ms/step\n",
      "epoch: 4200.00000 | total_loss:    0.88237 | domain_loss:   49.21834 | bdc_loss:    0.39413\n",
      "1/1 [==============================] - 0s 12ms/step\n",
      "epoch: 4400.00000 | total_loss:    0.71692 | domain_loss:   36.84652 | bdc_loss:    0.35198\n",
      "1/1 [==============================] - 0s 12ms/step\n",
      "epoch: 4600.00000 | total_loss:    0.58537 | domain_loss:   27.68890 | bdc_loss:    0.31160\n",
      "1/1 [==============================] - 0s 12ms/step\n",
      "epoch: 4800.00000 | total_loss:    0.47963 | domain_loss:   20.87446 | bdc_loss:    0.27363\n",
      "1/1 [==============================] - 0s 12ms/step\n",
      "epoch: 5000.00000 | total_loss:    0.39378 | domain_loss:   15.77114 | bdc_loss:    0.23845\n",
      "1/1 [==============================] - 0s 12ms/step\n",
      "epoch: 5200.00000 | total_loss:    0.32344 | domain_loss:   11.92448 | bdc_loss:    0.20626\n",
      "1/1 [==============================] - 0s 12ms/step\n",
      "epoch: 5400.00000 | total_loss:    0.26547 | domain_loss:    9.01240 | bdc_loss:    0.17712\n",
      "1/1 [==============================] - 0s 13ms/step\n",
      "epoch: 5600.00000 | total_loss:    0.21755 | domain_loss:    6.80744 | bdc_loss:    0.15098\n",
      "1/1 [==============================] - 0s 12ms/step\n",
      "epoch: 5800.00000 | total_loss:    0.17792 | domain_loss:    5.14473 | bdc_loss:    0.12775\n",
      "1/1 [==============================] - 0s 11ms/step\n",
      "epoch: 6000.00000 | total_loss:    0.14521 | domain_loss:    3.89972 | bdc_loss:    0.10729\n",
      "1/1 [==============================] - 0s 12ms/step\n",
      "epoch: 6200.00000 | total_loss:    0.11827 | domain_loss:    2.97386 | bdc_loss:    0.08943\n",
      "1/1 [==============================] - 0s 12ms/step\n",
      "epoch: 6400.00000 | total_loss:    0.09615 | domain_loss:    2.28806 | bdc_loss:    0.07401\n",
      "1/1 [==============================] - 0s 13ms/step\n",
      "epoch: 6600.00000 | total_loss:    0.07803 | domain_loss:    1.78009 | bdc_loss:    0.06084\n",
      "1/1 [==============================] - 0s 12ms/step\n",
      "epoch: 6800.00000 | total_loss:    0.06324 | domain_loss:    1.40136 | bdc_loss:    0.04973\n",
      "1/1 [==============================] - 0s 12ms/step\n",
      "epoch: 7000.00000 | total_loss:    0.05120 | domain_loss:    1.11571 | bdc_loss:    0.04045\n",
      "1/1 [==============================] - 0s 12ms/step\n",
      "epoch: 7200.00000 | total_loss:    0.04144 | domain_loss:    0.89770 | bdc_loss:    0.03279\n",
      "1/1 [==============================] - 0s 11ms/step\n",
      "epoch: 7400.00000 | total_loss:    0.03356 | domain_loss:    0.72911 | bdc_loss:    0.02653\n",
      "1/1 [==============================] - 0s 13ms/step\n",
      "epoch: 7600.00000 | total_loss:    0.02719 | domain_loss:    0.59698 | bdc_loss:    0.02144\n",
      "1/1 [==============================] - 0s 12ms/step\n",
      "epoch: 7800.00000 | total_loss:    0.02206 | domain_loss:    0.49185 | bdc_loss:    0.01731\n",
      "1/1 [==============================] - 0s 12ms/step\n",
      "epoch: 8000.00000 | total_loss:    0.01790 | domain_loss:    0.40707 | bdc_loss:    0.01397\n",
      "1/1 [==============================] - 0s 12ms/step\n",
      "epoch: 8200.00000 | total_loss:    0.01456 | domain_loss:    0.34000 | bdc_loss:    0.01127\n",
      "1/1 [==============================] - 0s 13ms/step\n",
      "epoch: 8400.00000 | total_loss:    0.01184 | domain_loss:    0.28481 | bdc_loss:    0.00908\n",
      "1/1 [==============================] - 0s 12ms/step\n",
      "epoch: 8600.00000 | total_loss:    0.00963 | domain_loss:    0.23957 | bdc_loss:    0.00731\n",
      "1/1 [==============================] - 0s 12ms/step\n",
      "epoch: 8800.00000 | total_loss:    0.00784 | domain_loss:    0.20296 | bdc_loss:    0.00587\n",
      "1/1 [==============================] - 0s 12ms/step\n",
      "epoch: 9000.00000 | total_loss:    0.00638 | domain_loss:    0.17267 | bdc_loss:    0.00470\n",
      "1/1 [==============================] - 0s 12ms/step\n",
      "epoch: 9200.00000 | total_loss:    0.00521 | domain_loss:    0.14827 | bdc_loss:    0.00376\n",
      "1/1 [==============================] - 0s 11ms/step\n",
      "epoch: 9400.00000 | total_loss:    0.00426 | domain_loss:    0.12803 | bdc_loss:    0.00301\n",
      "1/1 [==============================] - 0s 12ms/step\n",
      "epoch: 9600.00000 | total_loss:    0.00348 | domain_loss:    0.10966 | bdc_loss:    0.00241\n",
      "1/1 [==============================] - 0s 12ms/step\n",
      "epoch: 9800.00000 | total_loss:    0.00288 | domain_loss:    0.09699 | bdc_loss:    0.00193\n",
      "1/1 [==============================] - 0s 11ms/step\n",
      "epoch: 10000.00000 | total_loss:    0.00237 | domain_loss:    0.08435 | bdc_loss:    0.00155\n",
      "1/1 [==============================] - 0s 12ms/step\n",
      "epoch: 10200.00000 | total_loss:    0.00197 | domain_loss:    0.07418 | bdc_loss:    0.00125\n",
      "1/1 [==============================] - 0s 12ms/step\n",
      "epoch: 10400.00000 | total_loss:    0.00166 | domain_loss:    0.06656 | bdc_loss:    0.00101\n",
      "1/1 [==============================] - 0s 13ms/step\n",
      "epoch: 10600.00000 | total_loss:    0.00142 | domain_loss:    0.06025 | bdc_loss:    0.00082\n",
      "1/1 [==============================] - 0s 12ms/step\n",
      "epoch: 10800.00000 | total_loss:    0.00121 | domain_loss:    0.05424 | bdc_loss:    0.00068\n",
      "1/1 [==============================] - 0s 12ms/step\n",
      "epoch: 11000.00000 | total_loss:    0.00104 | domain_loss:    0.04920 | bdc_loss:    0.00056\n",
      "1/1 [==============================] - 0s 13ms/step\n",
      "epoch: 11200.00000 | total_loss:    0.00091 | domain_loss:    0.04484 | bdc_loss:    0.00046\n",
      "1/1 [==============================] - 0s 12ms/step\n",
      "epoch: 11400.00000 | total_loss:    0.00081 | domain_loss:    0.04198 | bdc_loss:    0.00039\n",
      "1/1 [==============================] - 0s 11ms/step\n",
      "epoch: 11600.00000 | total_loss:    0.00070 | domain_loss:    0.03748 | bdc_loss:    0.00033\n",
      "1/1 [==============================] - 0s 12ms/step\n",
      "epoch: 11800.00000 | total_loss:    0.00063 | domain_loss:    0.03570 | bdc_loss:    0.00028\n",
      "1/1 [==============================] - 0s 12ms/step\n",
      "epoch: 12000.00000 | total_loss:    0.00057 | domain_loss:    0.03283 | bdc_loss:    0.00024\n",
      "1/1 [==============================] - 0s 12ms/step\n",
      "epoch: 12200.00000 | total_loss:    0.00052 | domain_loss:    0.03157 | bdc_loss:    0.00021\n",
      "1/1 [==============================] - 0s 12ms/step\n",
      "epoch: 12400.00000 | total_loss:    0.00047 | domain_loss:    0.02887 | bdc_loss:    0.00018\n",
      "1/1 [==============================] - 0s 12ms/step\n",
      "epoch: 12600.00000 | total_loss:    0.00044 | domain_loss:    0.02827 | bdc_loss:    0.00016\n",
      "1/1 [==============================] - 0s 12ms/step\n",
      "epoch: 12800.00000 | total_loss:    0.00039 | domain_loss:    0.02526 | bdc_loss:    0.00014\n",
      "1/1 [==============================] - 0s 12ms/step\n",
      "epoch: 13000.00000 | total_loss:    0.00036 | domain_loss:    0.02416 | bdc_loss:    0.00012\n",
      "1/1 [==============================] - 0s 12ms/step\n",
      "epoch: 13200.00000 | total_loss:    0.00034 | domain_loss:    0.02299 | bdc_loss:    0.00011\n",
      "1/1 [==============================] - 0s 12ms/step\n",
      "epoch: 13400.00000 | total_loss:    0.00032 | domain_loss:    0.02241 | bdc_loss:    0.00010\n",
      "1/1 [==============================] - 0s 12ms/step\n",
      "epoch: 13600.00000 | total_loss:    0.00030 | domain_loss:    0.02170 | bdc_loss:    0.00009\n",
      "1/1 [==============================] - 0s 13ms/step\n",
      "epoch: 13800.00000 | total_loss:    0.00027 | domain_loss:    0.01982 | bdc_loss:    0.00008\n",
      "1/1 [==============================] - 0s 12ms/step\n",
      "epoch: 14000.00000 | total_loss:    0.00026 | domain_loss:    0.01902 | bdc_loss:    0.00007\n",
      "1/1 [==============================] - 0s 12ms/step\n",
      "epoch: 14200.00000 | total_loss:    0.00025 | domain_loss:    0.01821 | bdc_loss:    0.00006\n",
      "1/1 [==============================] - 0s 12ms/step\n",
      "epoch: 14400.00000 | total_loss:    0.00024 | domain_loss:    0.01813 | bdc_loss:    0.00006\n",
      "1/1 [==============================] - 0s 12ms/step\n",
      "epoch: 14600.00000 | total_loss:    0.00022 | domain_loss:    0.01679 | bdc_loss:    0.00005\n",
      "1/1 [==============================] - 0s 12ms/step\n",
      "epoch: 14800.00000 | total_loss:    0.00019 | domain_loss:    0.01435 | bdc_loss:    0.00005\n",
      "1/1 [==============================] - 0s 12ms/step\n",
      "epoch: 15000.00000 | total_loss:    0.00021 | domain_loss:    0.01641 | bdc_loss:    0.00005\n",
      "1/1 [==============================] - 0s 12ms/step\n",
      "epoch: 15200.00000 | total_loss:    0.00020 | domain_loss:    0.01615 | bdc_loss:    0.00004\n",
      "1/1 [==============================] - 0s 13ms/step\n",
      "epoch: 15400.00000 | total_loss:    0.00017 | domain_loss:    0.01307 | bdc_loss:    0.00004\n",
      "1/1 [==============================] - 0s 12ms/step\n",
      "epoch: 15600.00000 | total_loss:    0.00017 | domain_loss:    0.01350 | bdc_loss:    0.00004\n",
      "1/1 [==============================] - 0s 12ms/step\n",
      "epoch: 15800.00000 | total_loss:    0.00017 | domain_loss:    0.01348 | bdc_loss:    0.00003\n",
      "1/1 [==============================] - 0s 13ms/step\n",
      "epoch: 16000.00000 | total_loss:    0.00016 | domain_loss:    0.01269 | bdc_loss:    0.00003\n",
      "1/1 [==============================] - 0s 13ms/step\n",
      "epoch: 16200.00000 | total_loss:    0.00015 | domain_loss:    0.01195 | bdc_loss:    0.00003\n",
      "1/1 [==============================] - 0s 13ms/step\n",
      "epoch: 16400.00000 | total_loss:    0.00014 | domain_loss:    0.01156 | bdc_loss:    0.00003\n",
      "1/1 [==============================] - 0s 11ms/step\n",
      "epoch: 16600.00000 | total_loss:    0.00013 | domain_loss:    0.01047 | bdc_loss:    0.00003\n",
      "1/1 [==============================] - 0s 13ms/step\n",
      "epoch: 16800.00000 | total_loss:    0.00012 | domain_loss:    0.00980 | bdc_loss:    0.00002\n",
      "1/1 [==============================] - 0s 11ms/step\n",
      "epoch: 17000.00000 | total_loss:    0.00012 | domain_loss:    0.01009 | bdc_loss:    0.00002\n",
      "1/1 [==============================] - 0s 12ms/step\n",
      "epoch: 17200.00000 | total_loss:    0.00014 | domain_loss:    0.01142 | bdc_loss:    0.00002\n",
      "1/1 [==============================] - 0s 12ms/step\n",
      "epoch: 17400.00000 | total_loss:    0.00012 | domain_loss:    0.00976 | bdc_loss:    0.00002\n",
      "1/1 [==============================] - 0s 12ms/step\n",
      "epoch: 17600.00000 | total_loss:    0.00012 | domain_loss:    0.00956 | bdc_loss:    0.00002\n",
      "1/1 [==============================] - 0s 12ms/step\n",
      "epoch: 17800.00000 | total_loss:    0.00010 | domain_loss:    0.00850 | bdc_loss:    0.00002\n",
      "1/1 [==============================] - 0s 11ms/step\n",
      "epoch: 18000.00000 | total_loss:    0.00010 | domain_loss:    0.00861 | bdc_loss:    0.00002\n",
      "1/1 [==============================] - 0s 12ms/step\n",
      "epoch: 18200.00000 | total_loss:    0.00011 | domain_loss:    0.00889 | bdc_loss:    0.00002\n",
      "1/1 [==============================] - 0s 12ms/step\n",
      "epoch: 18400.00000 | total_loss:    0.00009 | domain_loss:    0.00785 | bdc_loss:    0.00002\n",
      "1/1 [==============================] - 0s 13ms/step\n",
      "epoch: 18600.00000 | total_loss:    0.00009 | domain_loss:    0.00797 | bdc_loss:    0.00002\n",
      "1/1 [==============================] - 0s 12ms/step\n",
      "epoch: 18800.00000 | total_loss:    0.00011 | domain_loss:    0.00997 | bdc_loss:    0.00001\n",
      "1/1 [==============================] - 0s 11ms/step\n",
      "epoch: 19000.00000 | total_loss:    0.00010 | domain_loss:    0.00849 | bdc_loss:    0.00001\n",
      "1/1 [==============================] - 0s 12ms/step\n",
      "epoch: 19200.00000 | total_loss:    0.00010 | domain_loss:    0.00908 | bdc_loss:    0.00001\n",
      "1/1 [==============================] - 0s 12ms/step\n",
      "epoch: 19400.00000 | total_loss:    0.00008 | domain_loss:    0.00683 | bdc_loss:    0.00001\n",
      "1/1 [==============================] - 0s 12ms/step\n",
      "epoch: 19600.00000 | total_loss:    0.00008 | domain_loss:    0.00688 | bdc_loss:    0.00001\n",
      "1/1 [==============================] - 0s 12ms/step\n",
      "epoch: 19800.00000 | total_loss:    0.00009 | domain_loss:    0.00771 | bdc_loss:    0.00001\n",
      "1/1 [==============================] - 0s 12ms/step\n",
      "Training time cost:  134.12255 seconds\n"
     ]
    }
   ],
   "source": [
    "epoch_number_list = []\n",
    "total_loss_list = []\n",
    "domain_loss_list = []\n",
    "boundary_loss_list = []\n",
    "uxy_list = []\n",
    "dudx_list = []\n",
    "dudy_list = []\n",
    "d2udx2_list = []\n",
    "d2udy2_list = []\n",
    "d2udxdy_list = []\n",
    "laplace_list = []\n",
    "pde_model_train.load_weights('picn_initial_weights.h5')\n",
    "pde_model_train.compile(optimizer=keras.optimizers.Adam(learning_rate=0.0001), loss=\"mse\", loss_weights = [0.01, 0.99])\n",
    "\n",
    "# Record the training time cost\n",
    "start = time.time()\n",
    "\n",
    "# Training\n",
    "pde_model_train.fit(x=training_input_data, \n",
    "                    y=training_label_data, \n",
    "                    epochs=20000, verbose=0,\n",
    "                    callbacks=callbacks)\n",
    "\n",
    "# Record the training time cost\n",
    "end = time.time()\n",
    "print(\"Training time cost: {:10.5f} seconds\".format(end - start))\n",
    "time_costs_text_file = open(\"time_costs.txt\", \"w\")\n",
    "time_costs_text_file.write(\"Training time cost: {:10.5f} seconds\".format(end - start))\n",
    "time_costs_text_file.close()\n",
    "\n",
    "# Load the best weights\n",
    "pde_model_train.load_weights('picn_best_weights.h5')"
   ]
  },
  {
   "cell_type": "code",
   "execution_count": 40,
   "id": "983f2f78",
   "metadata": {},
   "outputs": [
    {
     "data": {
      "image/png": "[encoded data removed]",
      "text/plain": [
       "<Figure size 1200x400 with 1 Axes>"
      ]
     },
     "metadata": {},
     "output_type": "display_data"
    }
   ],
   "source": [
    "df=pd.DataFrame({'epoch': epoch_number_list, \n",
    "                 'total_loss': total_loss_list, \n",
    "                 'governing_loss': domain_loss_list, \n",
    "                 'boundary_loss': boundary_loss_list})\n",
    "\n",
    "plt.figure(figsize=(12, 4))\n",
    "plt.plot( 'epoch', 'total_loss', data=df, marker='o', markerfacecolor='red', markersize=2, color='skyblue', linewidth=3)\n",
    "plt.plot( 'epoch', 'governing_loss', data=df, marker='', color='green', linewidth=2, linestyle='dashed')\n",
    "plt.plot( 'epoch', 'boundary_loss', data=df, marker='', color='blue', linewidth=2, linestyle='dashed')\n",
    "plt.legend()\n",
    "#plt.xscale('log')\n",
    "plt.yscale('log')\n",
    "plt.show()"
   ]
  },
  {
   "cell_type": "code",
   "execution_count": 41,
   "id": "06668b77",
   "metadata": {},
   "outputs": [
    {
     "name": "stdout",
     "output_type": "stream",
     "text": [
      "1/1 [==============================] - 0s 14ms/step\n"
     ]
    }
   ],
   "source": [
    "[x_m, y_m, uxy, dudx, dudy, d2udx2, d2udy2, d2udxdy, laplace] = pde_model.predict(training_input_data[:3])"
   ]
  },
  {
   "cell_type": "code",
   "execution_count": 42,
   "id": "fb52c8a8",
   "metadata": {},
   "outputs": [
    {
     "data": {
      "text/plain": [
       "Text(0.5, 1.0, 'error')"
      ]
     },
     "execution_count": 42,
     "metadata": {},
     "output_type": "execute_result"
    },
    {
     "data": {
      "image/png": "[encoded data removed]",
      "text/plain": [
       "<Figure size 1400x300 with 6 Axes>"
      ]
     },
     "metadata": {},
     "output_type": "display_data"
    }
   ],
   "source": [
    "z_mesh = U(x_mesh,y_mesh)\n",
    "z_mesh[~governing_equation_mask] = np.nan\n",
    "\n",
    "fig, axs = plt.subplots(1,3,constrained_layout=False, figsize=(14, 3))\n",
    "#\n",
    "ax = axs.ravel()[0]\n",
    "temp = uxy[0,:,:,0]\n",
    "temp[~governing_equation_mask]=np.nan\n",
    "cs = ax.contourf(x_domain, y_domain, uxy[0,:,:,0],np.linspace(-2, 6, 20))\n",
    "fig.colorbar(cs, ax=ax, shrink=0.9)\n",
    "ax.set_xlabel('x')\n",
    "ax.set_ylabel('y')\n",
    "ax.set_title('prediction')\n",
    "#\n",
    "ax = axs.ravel()[1]\n",
    "cs = ax.contourf(x_domain, y_domain, z_mesh,np.linspace(-2, 6, 20))\n",
    "fig.colorbar(cs, ax=ax, shrink=0.9)\n",
    "ax.set_xlabel('x')\n",
    "ax.set_ylabel('y')\n",
    "ax.set_title('truth')\n",
    "#\n",
    "ax = axs.ravel()[2]\n",
    "cs = ax.contourf(x_domain, y_domain, uxy[0,:,:,0]-z_mesh)\n",
    "fig.colorbar(cs, ax=ax, shrink=0.9)\n",
    "ax.set_xlabel('x')\n",
    "ax.set_ylabel('y')\n",
    "ax.set_title('error')"
   ]
  },
  {
   "cell_type": "markdown",
   "id": "8466b730",
   "metadata": {},
   "source": [
    "# 8. Save the Process Data"
   ]
  },
  {
   "cell_type": "code",
   "execution_count": 43,
   "id": "5632f09a",
   "metadata": {},
   "outputs": [],
   "source": [
    "picn_process_data = {'x_domain':x_domain,\n",
    "                     'y_domain':y_domain,\n",
    "                     'epoch_number_list':np.asarray(epoch_number_list),\n",
    "                     'total_loss_list':np.asarray(total_loss_list),\n",
    "                     'domain_loss_list':np.asarray(domain_loss_list),\n",
    "                     'boundary_loss_list':np.asarray(boundary_loss_list),\n",
    "                     'uxy_list':np.concatenate(uxy_list,axis=0),\n",
    "                     'dudx_list':np.concatenate(dudx_list,axis=0),\n",
    "                     'dudy_list':np.concatenate(dudy_list,axis=0),\n",
    "                     'd2udx2_list':np.concatenate(d2udx2_list,axis=0),\n",
    "                     'd2udy2_list':np.concatenate(d2udy2_list,axis=0),\n",
    "                     'd2udxdy_list':np.concatenate(d2udxdy_list,axis=0),\n",
    "                     'laplace_list':np.concatenate(laplace_list,axis=0)}\n",
    "savemat('picn_process_data.mat', picn_process_data)"
   ]
  },
  {
   "cell_type": "code",
   "execution_count": null,
   "id": "6a2e7aa8",
   "metadata": {},
   "outputs": [],
   "source": []
  }
 ],
 "metadata": {
  "kernelspec": {
   "display_name": "Python 3 (ipykernel)",
   "language": "python",
   "name": "python3"
  },
  "language_info": {
   "codemirror_mode": {
    "name": "ipython",
    "version": 3
   },
   "file_extension": ".py",
   "mimetype": "text/x-python",
   "name": "python",
   "nbconvert_exporter": "python",
   "pygments_lexer": "ipython3",
   "version": "3.11.5"
  }
 },
 "nbformat": 4,
 "nbformat_minor": 5
}
