{
 "cells": [
  {
   "cell_type": "markdown",
   "metadata": {},
   "source": [
    "# 0. Import Libraries"
   ]
  },
  {
   "cell_type": "code",
   "execution_count": null,
   "metadata": {},
   "outputs": [],
   "source": [
    "%pip install pandas\n",
    "%pip install matplotlib"
   ]
  },
  {
   "cell_type": "code",
   "execution_count": 1,
   "metadata": {},
   "outputs": [],
   "source": [
    "import tensorflow as tf\n",
    "import tensorflow.keras as keras\n",
    "from tensorflow.keras import backend as K\n",
    "from tensorflow.keras.layers import *\n",
    "\n",
    "import numpy as np\n",
    "import pandas as pd\n",
    "from scipy.io import loadmat\n",
    "from scipy.io import savemat\n",
    "import math\n",
    "\n",
    "import matplotlib.pyplot as plt\n",
    "import matplotlib.pyplot as plt\n",
    "from matplotlib import cm\n",
    "from matplotlib.ticker import LinearLocator\n",
    "\n",
    "import time"
   ]
  },
  {
   "cell_type": "code",
   "execution_count": 2,
   "metadata": {},
   "outputs": [],
   "source": [
    "from numpy.random import seed\n",
    "seed(0)\n",
    "tf.random.set_seed(0)"
   ]
  },
  {
   "cell_type": "markdown",
   "metadata": {},
   "source": [
    "# 1.  defined in a star-shaped domain\n",
    "rho_theta :exact solution; dUdx(x,y) :U_x; dUdy(x,y) :U_y; d2Udx2 :U_xx; d2Udy2 :U_yy;"
   ]
  },
  {
   "cell_type": "code",
   "execution_count": 3,
   "metadata": {},
   "outputs": [],
   "source": [
    "def rho_theta(theta):\n",
    "    return 1+np.cos(4*theta)**2\n",
    "    \n",
    "def rho_xy(x,y):\n",
    "    return rho_theta(np.angle(x+y*1j))\n",
    "\n",
    "def x_theta(theta):\n",
    "    return rho_theta(theta)*np.cos(theta)\n",
    "\n",
    "def y_theta(theta):\n",
    "    return rho_theta(theta)*np.sin(theta)\n",
    "\n",
    "def R(x,y):\n",
    "    return np.sqrt(x**2+y**2)\n",
    "\n",
    "k=3\n",
    "def U(x,y):\n",
    "    return np.cos(x+k*x*y+k*y**2)"
   ]
  },
  {
   "cell_type": "markdown",
   "metadata": {},
   "source": [
    "# 2. Initialize the Grid"
   ]
  },
  {
   "cell_type": "code",
   "execution_count": 4,
   "metadata": {},
   "outputs": [],
   "source": [
    "delta = 0.02\n",
    "x_domain = np.arange(-2, 2, delta)\n",
    "y_domain = np.arange(-2, 2, delta)\n",
    "x_mesh,y_mesh = np.meshgrid(x_domain, y_domain)"
   ]
  },
  {
   "cell_type": "markdown",
   "metadata": {},
   "source": [
    "# 3. Define Physical Info."
   ]
  },
  {
   "cell_type": "markdown",
   "metadata": {},
   "source": [
    "    suppose: \n",
    "    x = x[0];\n",
    "    y = x[1];\n",
    "    uxy = x[2]; \n",
    "    dudx = x[3];\n",
    "    dudy = x[4];\n",
    "    du2dx2 = x[5];\n",
    "    du2dy2 = x[6];\n",
    "    du2dxdy = x[7];\n",
    "    laplace = x[8]"
   ]
  },
  {
   "cell_type": "code",
   "execution_count": 5,
   "metadata": {},
   "outputs": [],
   "source": [
    "governing_equation_components = []\n",
    "governing_equation_components.append(Lambda(lambda x: x[3]))\n",
    "governing_equation_components.append(Lambda(lambda x: x[2]*x[4]))"
   ]
  },
  {
   "cell_type": "code",
   "execution_count": 6,
   "metadata": {},
   "outputs": [],
   "source": [
    "governing_equation_mask = R(x_mesh,y_mesh)<=rho_xy(x_mesh,y_mesh)"
   ]
  },
  {
   "cell_type": "markdown",
   "metadata": {},
   "source": [
    "fx = governing_equation_mask*(-(1+2*k*y_mesh+k**2*(1+x_mesh**2+4*x_mesh*y_mesh+5*y_mesh**2))*np.cos(x_mesh+k*x_mesh*y_mesh+k*y_mesh**2)-2*k*np.sin(x_mesh+k*x_mesh*y_mesh+k*y_mesh**2))"
   ]
  },
  {
   "cell_type": "code",
   "execution_count": 7,
   "metadata": {},
   "outputs": [],
   "source": [
    "fx = governing_equation_mask*(\n",
    "    (-np.sin(k*y_mesh**2+k*x_mesh*y_mesh+x_mesh)*(k*y_mesh+1)) + \n",
    "    (np.cos(k*y_mesh**2+k*x_mesh*y_mesh+x_mesh))*(-np.sin(k*y_mesh**2+k*x_mesh*y_mesh+x_mesh)*(k*x_mesh+2*k*y_mesh)))"
   ]
  },
  {
   "cell_type": "code",
   "execution_count": 8,
   "metadata": {},
   "outputs": [],
   "source": [
    "estimate_equation_form = False\n",
    "equation_component_combination = [1.0,1.0]"
   ]
  },
  {
   "cell_type": "markdown",
   "metadata": {},
   "source": [
    "# 4. Define the Observations"
   ]
  },
  {
   "cell_type": "markdown",
   "metadata": {},
   "source": [
    "    suppose: \n",
    "    x = x[0];\n",
    "    y = x[1];\n",
    "    uxy = x[2]; \n",
    "    dudx = x[3];\n",
    "    dudy = x[4];\n",
    "    du2dx2 = x[5];\n",
    "    du2dy2 = x[6];\n",
    "    du2dxdy = x[7];\n",
    "    laplace = x[8]"
   ]
  },
  {
   "cell_type": "code",
   "execution_count": 9,
   "metadata": {},
   "outputs": [],
   "source": [
    "observation_components = []\n",
    "observation_components.append(Lambda(lambda x: x[2]))\n",
    "observation_components.append(Lambda(lambda x: x[3]))\n",
    "observation_components.append(Lambda(lambda x: x[4]))"
   ]
  },
  {
   "cell_type": "markdown",
   "metadata": {},
   "source": [
    "    format: [x,y,combination,value]"
   ]
  },
  {
   "cell_type": "code",
   "execution_count": 10,
   "metadata": {},
   "outputs": [],
   "source": [
    "observation_data = []\n",
    "\n",
    "theta_list = np.linspace(0,np.pi*2,800)\n",
    "for theta in theta_list:\n",
    "    x = x_theta(theta)\n",
    "    y = y_theta(theta)\n",
    "    comb = [1,0,0]\n",
    "    v = U(x,y)\n",
    "    observation_data.append([x,y,comb,v])"
   ]
  },
  {
   "cell_type": "markdown",
   "metadata": {},
   "source": [
    "# 5. Define PICN"
   ]
  },
  {
   "cell_type": "code",
   "execution_count": 11,
   "metadata": {},
   "outputs": [],
   "source": [
    "def gradient_x_kernal_init(shape, dtype=tf.float32):\n",
    "    return tf.constant([[[[-1.0/delta]], [[1.0/delta]]]], dtype=dtype)"
   ]
  },
  {
   "cell_type": "code",
   "execution_count": 12,
   "metadata": {},
   "outputs": [],
   "source": [
    "def gradient_x2_kernal_init(shape, dtype=tf.float32):\n",
    "    return tf.constant([[[[1.0/delta**2]], [[-2.0/delta**2]], [[1.0/delta**2]]]], dtype=dtype)"
   ]
  },
  {
   "cell_type": "code",
   "execution_count": 13,
   "metadata": {},
   "outputs": [],
   "source": [
    "def gradient_y_kernal_init(shape, dtype=tf.float32):\n",
    "    return tf.constant([[[[-1.0/delta]]], [[[1.0/delta]]]], dtype=dtype)"
   ]
  },
  {
   "cell_type": "code",
   "execution_count": 14,
   "metadata": {},
   "outputs": [],
   "source": [
    "def gradient_y2_kernal_init(shape, dtype=tf.float32):\n",
    "    return tf.constant([[[[1.0/delta**2]]], [[[-2.0/delta**2]]], [[[1.0/delta**2]]]], dtype=dtype)"
   ]
  },
  {
   "cell_type": "code",
   "execution_count": 15,
   "metadata": {},
   "outputs": [],
   "source": [
    "def gradient_xy_kernal_init(shape, dtype=tf.float32):\n",
    "    return tf.constant([[[[1.0/delta**2]], [[-1.0/delta**2]]], [[[-1.0/delta**2]], [[1.0/delta**2]]]], dtype=dtype)"
   ]
  },
  {
   "cell_type": "code",
   "execution_count": 16,
   "metadata": {},
   "outputs": [],
   "source": [
    "def laplace_kernal_init(shape, dtype=tf.float32):\n",
    "    return tf.constant([[[[0]], [[1.0/delta**2]], [[0]]], [[[1.0/delta**2]], [[-4.0/delta**2]], [[1.0/delta**2]]], [[[0]], [[1.0/delta**2]], [[0]]]], dtype=dtype)"
   ]
  },
  {
   "cell_type": "code",
   "execution_count": 17,
   "metadata": {},
   "outputs": [],
   "source": [
    "inputs = [keras.layers.Input(shape=(1,1,1)),\n",
    "          keras.layers.Input(shape=(len(y_domain),len(x_domain),1)),\n",
    "          keras.layers.Input(shape=(len(y_domain),len(x_domain),1)),\n",
    "          keras.layers.Input(shape=(len(observation_data),len(observation_components)*4)),\n",
    "          keras.layers.Input(shape=(len(y_domain),len(x_domain),1))]\n",
    "\n",
    "hidden_field = keras.layers.Conv2DTranspose(filters=1, \n",
    "                                            kernel_size=[len(y_domain)+4,len(x_domain)+4], \n",
    "                                            activation='linear')(inputs[0])\n",
    "coordinates_x = inputs[1]\n",
    "coordinates_y = inputs[2]\n",
    "field = keras.layers.Conv2D(filters=1, \n",
    "                            kernel_size=3, \n",
    "                            padding='valid', \n",
    "                            activation=Lambda(lambda x: x+tf.tanh(x)))(hidden_field)\n",
    "gradient_x_field = keras.layers.Conv2D(filters=1, \n",
    "                                     kernel_size=[1,2], \n",
    "                                     padding='valid',\n",
    "                                     use_bias=False,\n",
    "                                     trainable=False,\n",
    "                                     kernel_initializer=gradient_x_kernal_init)(field)\n",
    "gradient_x2_field = keras.layers.Conv2D(filters=1, \n",
    "                                       kernel_size=[1,3], \n",
    "                                       padding='valid',\n",
    "                                       use_bias=False,\n",
    "                                       trainable=False,\n",
    "                                       kernel_initializer=gradient_x2_kernal_init)(field)\n",
    "gradient_y_field = keras.layers.Conv2D(filters=1, \n",
    "                                     kernel_size=[2,1], \n",
    "                                     padding='valid',\n",
    "                                     use_bias=False,\n",
    "                                     trainable=False,\n",
    "                                     kernel_initializer=gradient_y_kernal_init)(field)\n",
    "gradient_y2_field = keras.layers.Conv2D(filters=1, \n",
    "                                       kernel_size=[3,1], \n",
    "                                       padding='valid',\n",
    "                                       use_bias=False,\n",
    "                                       trainable=False,\n",
    "                                       kernel_initializer=gradient_y2_kernal_init)(field)\n",
    "gradient_xy_field = keras.layers.Conv2D(filters=1, \n",
    "                                       kernel_size=[2,2], \n",
    "                                       padding='valid',\n",
    "                                       use_bias=False,\n",
    "                                       trainable=False,\n",
    "                                       kernel_initializer=gradient_xy_kernal_init)(field)\n",
    "laplace_field = keras.layers.Conv2D(filters=1, \n",
    "                                       kernel_size=[3,3], \n",
    "                                       padding='valid',\n",
    "                                       use_bias=False,\n",
    "                                       trainable=False,\n",
    "                                       kernel_initializer=laplace_kernal_init)(field)\n",
    "phycial_fields = [coordinates_x,\n",
    "                  coordinates_y,\n",
    "                  field[:,1:-1,1:-1,:],\n",
    "                  gradient_x_field[:,1:-1,1:,:],\n",
    "                  gradient_y_field[:,1:,1:-1,:],\n",
    "                  gradient_x2_field[:,1:-1,:,:],\n",
    "                  gradient_y2_field[:,:,1:-1,:],\n",
    "                  gradient_xy_field[:,1:,1:,:],\n",
    "                  laplace_field]"
   ]
  },
  {
   "cell_type": "code",
   "execution_count": 18,
   "metadata": {},
   "outputs": [],
   "source": [
    "if estimate_equation_form==True:\n",
    "    tf_governing_equation_components = [component(phycial_fields) for component in governing_equation_components]\n",
    "    concat_equation_components = Lambda(lambda x: tf.concat(x,axis=-1))(tf_governing_equation_components)\n",
    "    governing_equation = keras.layers.Conv2D(filters=1, \n",
    "                                             kernel_size=[1,1], \n",
    "                                             padding='valid',\n",
    "                                             use_bias=False)(concat_equation_components)*inputs[4]\n",
    "else:\n",
    "    tf_weighted_governing_equation_components = [weight*component(phycial_fields) for [weight,component] in zip(equation_component_combination,governing_equation_components)]\n",
    "    concat_weighted_equation_components = Lambda(lambda x: tf.concat(x,axis=-1))(tf_weighted_governing_equation_components)\n",
    "    governing_equation = Lambda(lambda x: tf.reduce_sum(x,axis=-1,keepdims=True))(concat_weighted_equation_components)*inputs[4]"
   ]
  },
  {
   "cell_type": "code",
   "execution_count": 19,
   "metadata": {},
   "outputs": [],
   "source": [
    "tf_observation_components = [component(phycial_fields) for component in observation_components]\n",
    "concat_observation_components = Lambda(lambda x: tf.concat(x,axis=-1))(tf_observation_components)"
   ]
  },
  {
   "cell_type": "code",
   "execution_count": 20,
   "metadata": {},
   "outputs": [],
   "source": [
    "left_x_position_index_list = []\n",
    "right_x_position_index_list = []\n",
    "left_x_position_weight_list = []\n",
    "right_x_position_weight_list = []\n",
    "\n",
    "bottom_y_position_index_list = []\n",
    "top_y_position_index_list = []\n",
    "bottom_y_position_weight_list = []\n",
    "top_y_position_weight_list = []\n",
    "\n",
    "\n",
    "for data in observation_data:\n",
    "    \n",
    "    left_x_position_index = int(np.floor((data[0] - x_domain[0])/delta))\n",
    "    right_x_position_index = left_x_position_index + 1\n",
    "    left_x_position_weight = 1-(data[0] - (x_domain[0]+delta*left_x_position_index))/delta\n",
    "    right_x_position_weight = 1-left_x_position_weight\n",
    "    \n",
    "    bottom_y_position_index = int(np.floor((data[1] - y_domain[0])/delta))\n",
    "    top_y_position_index = bottom_y_position_index + 1\n",
    "    bottom_y_position_weight = 1-(data[1] - (y_domain[0]+delta*bottom_y_position_index))/delta\n",
    "    top_y_position_weight = 1-bottom_y_position_weight\n",
    "    \n",
    "    if data[0] <= x_domain[0] + 1e-8:\n",
    "        left_x_position_index = 0\n",
    "        right_x_position_index = 1\n",
    "        left_x_position_weight = 1\n",
    "        right_x_position_weight = 0\n",
    "    if data[0] >= x_domain[-1] - 1e-8:\n",
    "        left_x_position_index = len(x_domain)-2\n",
    "        right_x_position_index = len(x_domain)-1\n",
    "        left_x_position_weight = 0\n",
    "        right_x_position_weight = 1\n",
    "    if data[1] <= y_domain[0] + 1e-8:\n",
    "        bottom_y_position_index = 0\n",
    "        top_y_position_index = 1\n",
    "        bottom_y_position_weight = 1\n",
    "        top_y_position_weight = 0\n",
    "    if data[1] >= y_domain[-1] - 1e-8:\n",
    "        bottom_y_position_index = len(y_domain)-2\n",
    "        top_y_position_index = len(y_domain)-1\n",
    "        bottom_y_position_weight = 0\n",
    "        top_y_position_weight = 1\n",
    "    \n",
    "    left_x_position_index_list.append(left_x_position_index)\n",
    "    right_x_position_index_list.append(right_x_position_index)\n",
    "    left_x_position_weight_list.append(left_x_position_weight)\n",
    "    right_x_position_weight_list.append(right_x_position_weight)\n",
    "\n",
    "    bottom_y_position_index_list.append(bottom_y_position_index)\n",
    "    top_y_position_index_list.append(top_y_position_index)\n",
    "    bottom_y_position_weight_list.append(bottom_y_position_weight)\n",
    "    top_y_position_weight_list.append(top_y_position_weight)"
   ]
  },
  {
   "cell_type": "code",
   "execution_count": 21,
   "metadata": {},
   "outputs": [],
   "source": [
    "left_bottom_indices = tf.constant([[0,y,x] for x,y in zip(left_x_position_index_list,bottom_y_position_index_list)])\n",
    "left_top_indices = tf.constant([[0,y,x] for x,y in zip(left_x_position_index_list,top_y_position_index_list)])\n",
    "right_bottom_indices = tf.constant([[0,y,x] for x,y in zip(right_x_position_index_list,bottom_y_position_index_list)])\n",
    "right_top_indices = tf.constant([[0,y,x] for x,y in zip(right_x_position_index_list,top_y_position_index_list)])"
   ]
  },
  {
   "cell_type": "code",
   "execution_count": 22,
   "metadata": {},
   "outputs": [],
   "source": [
    "observation_data_left_bottom_part = Lambda(lambda x: tf.gather_nd(x,left_bottom_indices))(concat_observation_components)\n",
    "observation_data_left_top_part = Lambda(lambda x: tf.gather_nd(x,left_top_indices))(concat_observation_components)\n",
    "observation_data_right_bottom_part = Lambda(lambda x: tf.gather_nd(x,right_bottom_indices))(concat_observation_components)\n",
    "observation_data_right_top_part = Lambda(lambda x: tf.gather_nd(x,right_top_indices))(concat_observation_components)"
   ]
  },
  {
   "cell_type": "code",
   "execution_count": 23,
   "metadata": {},
   "outputs": [],
   "source": [
    "observation_data_four_part = Lambda(lambda x: tf.expand_dims(tf.concat(x,axis=-1),axis=0))([observation_data_left_bottom_part,observation_data_left_top_part,observation_data_right_bottom_part,observation_data_right_top_part])"
   ]
  },
  {
   "cell_type": "code",
   "execution_count": 24,
   "metadata": {},
   "outputs": [],
   "source": [
    "observation_data_interpolation_weights = np.expand_dims(\n",
    "np.asarray([np.concatenate([(np.asarray([observation_data[i][2][j] for j in range(len(observation_components))]))*left_x_position_weight_list[i]*bottom_y_position_weight_list[i],\n",
    " (np.asarray([observation_data[i][2][j] for j in range(len(observation_components))]))*left_x_position_weight_list[i]*top_y_position_weight_list[i],\n",
    " (np.asarray([observation_data[i][2][j] for j in range(len(observation_components))]))*right_x_position_weight_list[i]*bottom_y_position_weight_list[i],\n",
    " (np.asarray([observation_data[i][2][j] for j in range(len(observation_components))]))*right_x_position_weight_list[i]*top_y_position_weight_list[i]],axis=-1) for i in range(len(observation_data))]),\n",
    "    axis=0)"
   ]
  },
  {
   "cell_type": "code",
   "execution_count": 25,
   "metadata": {},
   "outputs": [],
   "source": [
    "observations = Lambda(lambda x: tf.reduce_sum(x[0]*x[1],axis=-1))([inputs[3][0,:,:],observation_data_four_part])"
   ]
  },
  {
   "cell_type": "code",
   "execution_count": 26,
   "metadata": {},
   "outputs": [],
   "source": [
    "pde_model = keras.Model(inputs=inputs[:3], outputs=phycial_fields)\n",
    "pde_model_train = keras.Model(inputs=inputs, outputs=[governing_equation,observations])"
   ]
  },
  {
   "cell_type": "code",
   "execution_count": 27,
   "metadata": {},
   "outputs": [
    {
     "name": "stdout",
     "output_type": "stream",
     "text": [
      "Model: \"model\"\n",
      "__________________________________________________________________________________________________\n",
      " Layer (type)                Output Shape                 Param #   Connected to                  \n",
      "==================================================================================================\n",
      " input_1 (InputLayer)        [(None, 1, 1, 1)]            0         []                            \n",
      "                                                                                                  \n",
      " conv2d_transpose (Conv2DTr  (None, 204, 204, 1)          41617     ['input_1[0][0]']             \n",
      " anspose)                                                                                         \n",
      "                                                                                                  \n",
      " conv2d (Conv2D)             (None, 202, 202, 1)          10        ['conv2d_transpose[0][0]']    \n",
      "                                                                                                  \n",
      " conv2d_1 (Conv2D)           (None, 202, 201, 1)          2         ['conv2d[0][0]']              \n",
      "                                                                                                  \n",
      " conv2d_3 (Conv2D)           (None, 201, 202, 1)          2         ['conv2d[0][0]']              \n",
      "                                                                                                  \n",
      " conv2d_2 (Conv2D)           (None, 202, 200, 1)          3         ['conv2d[0][0]']              \n",
      "                                                                                                  \n",
      " conv2d_4 (Conv2D)           (None, 200, 202, 1)          3         ['conv2d[0][0]']              \n",
      "                                                                                                  \n",
      " conv2d_5 (Conv2D)           (None, 201, 201, 1)          4         ['conv2d[0][0]']              \n",
      "                                                                                                  \n",
      " input_2 (InputLayer)        [(None, 200, 200, 1)]        0         []                            \n",
      "                                                                                                  \n",
      " input_3 (InputLayer)        [(None, 200, 200, 1)]        0         []                            \n",
      "                                                                                                  \n",
      " tf.__operators__.getitem (  (None, 200, 200, 1)          0         ['conv2d[0][0]']              \n",
      " SlicingOpLambda)                                                                                 \n",
      "                                                                                                  \n",
      " tf.__operators__.getitem_1  (None, 200, 200, 1)          0         ['conv2d_1[0][0]']            \n",
      "  (SlicingOpLambda)                                                                               \n",
      "                                                                                                  \n",
      " tf.__operators__.getitem_2  (None, 200, 200, 1)          0         ['conv2d_3[0][0]']            \n",
      "  (SlicingOpLambda)                                                                               \n",
      "                                                                                                  \n",
      " tf.__operators__.getitem_3  (None, 200, 200, 1)          0         ['conv2d_2[0][0]']            \n",
      "  (SlicingOpLambda)                                                                               \n",
      "                                                                                                  \n",
      " tf.__operators__.getitem_4  (None, 200, 200, 1)          0         ['conv2d_4[0][0]']            \n",
      "  (SlicingOpLambda)                                                                               \n",
      "                                                                                                  \n",
      " tf.__operators__.getitem_5  (None, 200, 200, 1)          0         ['conv2d_5[0][0]']            \n",
      "  (SlicingOpLambda)                                                                               \n",
      "                                                                                                  \n",
      " conv2d_6 (Conv2D)           (None, 200, 200, 1)          9         ['conv2d[0][0]']              \n",
      "                                                                                                  \n",
      "==================================================================================================\n",
      "Total params: 41650 (162.70 KB)\n",
      "Trainable params: 41627 (162.61 KB)\n",
      "Non-trainable params: 23 (92.00 Byte)\n",
      "__________________________________________________________________________________________________\n"
     ]
    }
   ],
   "source": [
    "def model_print_functoin(s):\n",
    "    with open('model_summary.txt','a') as f:\n",
    "        print(s, file=f)\n",
    "\n",
    "pde_model.summary(print_fn=model_print_functoin)\n",
    "pde_model.summary()"
   ]
  },
  {
   "cell_type": "markdown",
   "metadata": {},
   "source": [
    "# 6. Prepare the Training Data"
   ]
  },
  {
   "cell_type": "code",
   "execution_count": 28,
   "metadata": {},
   "outputs": [
    {
     "name": "stdout",
     "output_type": "stream",
     "text": [
      "(1, 1, 1, 1)\n"
     ]
    }
   ],
   "source": [
    "unit_constant = np.asarray([[[[1.0]]]],dtype=np.float32)\n",
    "training_input_data_0 = unit_constant\n",
    "print(training_input_data_0.shape)"
   ]
  },
  {
   "cell_type": "code",
   "execution_count": 29,
   "metadata": {},
   "outputs": [
    {
     "name": "stdout",
     "output_type": "stream",
     "text": [
      "(1, 200, 200, 1)\n"
     ]
    }
   ],
   "source": [
    "training_input_data_1 = np.expand_dims(x_mesh.astype(np.float32),axis=[0,-1])\n",
    "print(training_input_data_1.shape)"
   ]
  },
  {
   "cell_type": "code",
   "execution_count": 30,
   "metadata": {},
   "outputs": [
    {
     "name": "stdout",
     "output_type": "stream",
     "text": [
      "(1, 200, 200, 1)\n"
     ]
    }
   ],
   "source": [
    "training_input_data_2 = np.expand_dims(y_mesh.astype(np.float32),axis=[0,-1])\n",
    "print(training_input_data_2.shape)"
   ]
  },
  {
   "cell_type": "code",
   "execution_count": 31,
   "metadata": {},
   "outputs": [
    {
     "name": "stdout",
     "output_type": "stream",
     "text": [
      "(1, 800, 12)\n"
     ]
    }
   ],
   "source": [
    "training_input_data_3 = observation_data_interpolation_weights.astype(np.float32)\n",
    "print(training_input_data_3.shape)"
   ]
  },
  {
   "cell_type": "code",
   "execution_count": 32,
   "metadata": {},
   "outputs": [
    {
     "name": "stdout",
     "output_type": "stream",
     "text": [
      "(1, 200, 200, 1)\n"
     ]
    }
   ],
   "source": [
    "training_input_data_4 = np.expand_dims(governing_equation_mask.astype(np.float32),axis=[0,-1])\n",
    "print(training_input_data_2.shape)"
   ]
  },
  {
   "cell_type": "code",
   "execution_count": 33,
   "metadata": {},
   "outputs": [
    {
     "name": "stdout",
     "output_type": "stream",
     "text": [
      "(1, 200, 200, 1)\n"
     ]
    }
   ],
   "source": [
    "training_label_data_0 = np.expand_dims(fx.astype(np.float32),axis=[0,-1])\n",
    "print(training_label_data_0.shape)"
   ]
  },
  {
   "cell_type": "code",
   "execution_count": 34,
   "metadata": {},
   "outputs": [
    {
     "name": "stdout",
     "output_type": "stream",
     "text": [
      "(1, 800)\n"
     ]
    }
   ],
   "source": [
    "training_label_data_1 = np.expand_dims(np.asarray([data[3] for data in observation_data]),axis=[0])\n",
    "print(training_label_data_1.shape)"
   ]
  },
  {
   "cell_type": "code",
   "execution_count": 35,
   "metadata": {},
   "outputs": [],
   "source": [
    "training_input_data = [training_input_data_0,training_input_data_1,training_input_data_2,training_input_data_3,training_input_data_4]\n",
    "training_label_data = [training_label_data_0,training_label_data_1]"
   ]
  },
  {
   "cell_type": "markdown",
   "metadata": {},
   "source": [
    "# 7. Train the Model"
   ]
  },
  {
   "cell_type": "code",
   "execution_count": 36,
   "metadata": {},
   "outputs": [
    {
     "name": "stdout",
     "output_type": "stream",
     "text": [
      "['loss', 'tf.math.multiply_2_loss', 'lambda_14_loss']\n"
     ]
    }
   ],
   "source": [
    "pde_model_train.compile(optimizer=keras.optimizers.Adam(), loss=\"mse\")\n",
    "pde_model_train.save_weights('picn_initial_weights.h5')\n",
    "temp_history = pde_model_train.fit(x=training_input_data, y=training_label_data, epochs=1, verbose=0)\n",
    "history_keys = []\n",
    "for key in temp_history.history.keys():\n",
    "    history_keys.append(key)\n",
    "print(history_keys)"
   ]
  },
  {
   "cell_type": "code",
   "execution_count": 37,
   "metadata": {},
   "outputs": [],
   "source": [
    "def record_predictions():\n",
    "    [_, _, uxy, dudx, dudy, d2udx2, d2udy2, d2udxdy, laplace] = pde_model.predict(training_input_data[:3])\n",
    "    uxy_list.append(uxy[:,:,:,0])\n",
    "    dudx_list.append(dudx[:,:,:,0])\n",
    "    dudy_list.append(dudy[:,:,:,0])\n",
    "    d2udx2_list.append(d2udx2[:,:,:,0])\n",
    "    d2udy2_list.append(d2udy2[:,:,:,0])\n",
    "    d2udxdy_list.append(d2udxdy[:,:,:,0])\n",
    "    laplace_list.append(laplace[:,:,:,0])\n",
    "\n",
    "class Per_X_Epoch_Record(tf.keras.callbacks.Callback):\n",
    "    def __init__(self, record_interval, verbose=1):\n",
    "        super(tf.keras.callbacks.Callback, self).__init__()\n",
    "        self.total_loss = history_keys[0]\n",
    "        self.domain_loss = history_keys[1]\n",
    "        self.bdc_loss = history_keys[2]\n",
    "        self.previous_total_loss = 9999999\n",
    "        self.record_interval = record_interval\n",
    "        self.verbose = verbose\n",
    "\n",
    "    def on_epoch_end(self, epoch, logs={}):\n",
    "        \n",
    "        if epoch%self.record_interval == 0:\n",
    "            \n",
    "            current_total_loss = logs.get(self.total_loss)\n",
    "            current_domain_loss = logs.get(self.domain_loss)\n",
    "            current_bdc_loss = logs.get(self.bdc_loss)\n",
    "            \n",
    "            epoch_number_list.append(epoch)\n",
    "            total_loss_list.append(current_total_loss)\n",
    "            domain_loss_list.append(current_domain_loss)\n",
    "            boundary_loss_list.append(current_bdc_loss)\n",
    "        \n",
    "            if current_total_loss < self.previous_total_loss:\n",
    "                self.previous_total_loss = current_total_loss\n",
    "                pde_model_train.save_weights('picn_best_weights.h5')\n",
    "            \n",
    "            if self.verbose > 0:\n",
    "                print(\"epoch: {:10.5f} | total_loss: {:10.5f} | domain_loss: {:10.5f} | bdc_loss: {:10.5f}\".format(epoch,current_total_loss,current_domain_loss,current_bdc_loss))\n",
    "        \n",
    "            # evaluate the errors in f-domain\n",
    "            record_predictions()"
   ]
  },
  {
   "cell_type": "markdown",
   "metadata": {},
   "source": [
    "if os.path.exists(\"demofile.txt\"):\n",
    "  os.remove(\"demofile.txt\")"
   ]
  },
  {
   "cell_type": "code",
   "execution_count": 38,
   "metadata": {},
   "outputs": [],
   "source": [
    "callbacks = [\n",
    "    Per_X_Epoch_Record(record_interval=100,verbose=1),\n",
    "]"
   ]
  },
  {
   "cell_type": "code",
   "execution_count": 39,
   "metadata": {
    "scrolled": true
   },
   "outputs": [
    {
     "name": "stdout",
     "output_type": "stream",
     "text": [
      "epoch:    0.00000 | total_loss:    0.55090 | domain_loss:    3.93976 | bdc_loss:    0.51667\n",
      "1/1 [==============================] - 0s 67ms/step\n",
      "epoch:  100.00000 | total_loss:    0.27555 | domain_loss:    4.68856 | bdc_loss:    0.23098\n",
      "1/1 [==============================] - 0s 11ms/step\n",
      "epoch:  200.00000 | total_loss:    0.06101 | domain_loss:    2.98200 | bdc_loss:    0.03151\n",
      "1/1 [==============================] - 0s 12ms/step\n",
      "epoch:  300.00000 | total_loss:    0.01376 | domain_loss:    1.06871 | bdc_loss:    0.00311\n",
      "1/1 [==============================] - 0s 12ms/step\n",
      "epoch:  400.00000 | total_loss:    0.00690 | domain_loss:    0.59837 | bdc_loss:    0.00092\n",
      "1/1 [==============================] - 0s 11ms/step\n",
      "epoch:  500.00000 | total_loss:    0.00451 | domain_loss:    0.40695 | bdc_loss:    0.00045\n",
      "1/1 [==============================] - 0s 12ms/step\n",
      "epoch:  600.00000 | total_loss:    0.00323 | domain_loss:    0.29649 | bdc_loss:    0.00027\n",
      "1/1 [==============================] - 0s 12ms/step\n",
      "epoch:  700.00000 | total_loss:    0.00241 | domain_loss:    0.22315 | bdc_loss:    0.00018\n",
      "1/1 [==============================] - 0s 12ms/step\n",
      "epoch:  800.00000 | total_loss:    0.00189 | domain_loss:    0.17658 | bdc_loss:    0.00012\n",
      "1/1 [==============================] - 0s 12ms/step\n",
      "epoch:  900.00000 | total_loss:    0.00161 | domain_loss:    0.15172 | bdc_loss:    0.00010\n",
      "1/1 [==============================] - 0s 12ms/step\n",
      "epoch: 1000.00000 | total_loss:    0.00136 | domain_loss:    0.12826 | bdc_loss:    0.00008\n",
      "1/1 [==============================] - 0s 11ms/step\n",
      "epoch: 1100.00000 | total_loss:    0.00110 | domain_loss:    0.10390 | bdc_loss:    0.00006\n",
      "1/1 [==============================] - 0s 11ms/step\n",
      "epoch: 1200.00000 | total_loss:    0.00094 | domain_loss:    0.08879 | bdc_loss:    0.00005\n",
      "1/1 [==============================] - 0s 11ms/step\n",
      "epoch: 1300.00000 | total_loss:    0.00076 | domain_loss:    0.07171 | bdc_loss:    0.00004\n",
      "1/1 [==============================] - 0s 12ms/step\n",
      "epoch: 1400.00000 | total_loss:    0.00064 | domain_loss:    0.06044 | bdc_loss:    0.00004\n",
      "1/1 [==============================] - 0s 11ms/step\n",
      "epoch: 1500.00000 | total_loss:    0.00054 | domain_loss:    0.05116 | bdc_loss:    0.00003\n",
      "1/1 [==============================] - 0s 12ms/step\n",
      "epoch: 1600.00000 | total_loss:    0.00046 | domain_loss:    0.04361 | bdc_loss:    0.00003\n",
      "1/1 [==============================] - 0s 11ms/step\n",
      "epoch: 1700.00000 | total_loss:    0.00040 | domain_loss:    0.03774 | bdc_loss:    0.00002\n",
      "1/1 [==============================] - 0s 12ms/step\n",
      "epoch: 1800.00000 | total_loss:    0.00035 | domain_loss:    0.03329 | bdc_loss:    0.00002\n",
      "1/1 [==============================] - 0s 12ms/step\n",
      "epoch: 1900.00000 | total_loss:    0.00032 | domain_loss:    0.02984 | bdc_loss:    0.00002\n",
      "1/1 [==============================] - 0s 12ms/step\n",
      "epoch: 2000.00000 | total_loss:    0.00029 | domain_loss:    0.02721 | bdc_loss:    0.00002\n",
      "1/1 [==============================] - 0s 12ms/step\n",
      "epoch: 2100.00000 | total_loss:    0.00027 | domain_loss:    0.02518 | bdc_loss:    0.00002\n",
      "1/1 [==============================] - 0s 11ms/step\n",
      "epoch: 2200.00000 | total_loss:    0.00025 | domain_loss:    0.02358 | bdc_loss:    0.00001\n",
      "1/1 [==============================] - 0s 11ms/step\n",
      "epoch: 2300.00000 | total_loss:    0.00024 | domain_loss:    0.02223 | bdc_loss:    0.00001\n",
      "1/1 [==============================] - 0s 12ms/step\n",
      "epoch: 2400.00000 | total_loss:    0.00022 | domain_loss:    0.02111 | bdc_loss:    0.00001\n",
      "1/1 [==============================] - 0s 12ms/step\n",
      "epoch: 2500.00000 | total_loss:    0.00021 | domain_loss:    0.02025 | bdc_loss:    0.00001\n",
      "1/1 [==============================] - 0s 12ms/step\n",
      "epoch: 2600.00000 | total_loss:    0.00021 | domain_loss:    0.01944 | bdc_loss:    0.00001\n",
      "1/1 [==============================] - 0s 12ms/step\n",
      "epoch: 2700.00000 | total_loss:    0.00020 | domain_loss:    0.01880 | bdc_loss:    0.00001\n",
      "1/1 [==============================] - 0s 11ms/step\n",
      "epoch: 2800.00000 | total_loss:    0.00019 | domain_loss:    0.01816 | bdc_loss:    0.00001\n",
      "1/1 [==============================] - 0s 11ms/step\n",
      "epoch: 2900.00000 | total_loss:    0.00018 | domain_loss:    0.01751 | bdc_loss:    0.00001\n",
      "1/1 [==============================] - 0s 12ms/step\n",
      "epoch: 3000.00000 | total_loss:    0.00018 | domain_loss:    0.01688 | bdc_loss:    0.00001\n",
      "1/1 [==============================] - 0s 12ms/step\n",
      "epoch: 3100.00000 | total_loss:    0.00017 | domain_loss:    0.01628 | bdc_loss:    0.00001\n",
      "1/1 [==============================] - 0s 12ms/step\n",
      "epoch: 3200.00000 | total_loss:    0.00017 | domain_loss:    0.01575 | bdc_loss:    0.00001\n",
      "1/1 [==============================] - 0s 12ms/step\n",
      "epoch: 3300.00000 | total_loss:    0.00016 | domain_loss:    0.01522 | bdc_loss:    0.00001\n",
      "1/1 [==============================] - 0s 10ms/step\n",
      "epoch: 3400.00000 | total_loss:    0.00016 | domain_loss:    0.01480 | bdc_loss:    0.00001\n",
      "1/1 [==============================] - 0s 12ms/step\n",
      "epoch: 3500.00000 | total_loss:    0.00015 | domain_loss:    0.01440 | bdc_loss:    0.00001\n",
      "1/1 [==============================] - 0s 11ms/step\n",
      "epoch: 3600.00000 | total_loss:    0.00015 | domain_loss:    0.01413 | bdc_loss:    0.00001\n",
      "1/1 [==============================] - 0s 11ms/step\n",
      "epoch: 3700.00000 | total_loss:    0.00015 | domain_loss:    0.01387 | bdc_loss:    0.00001\n",
      "1/1 [==============================] - 0s 12ms/step\n",
      "epoch: 3800.00000 | total_loss:    0.00014 | domain_loss:    0.01367 | bdc_loss:    0.00001\n",
      "1/1 [==============================] - 0s 11ms/step\n",
      "epoch: 3900.00000 | total_loss:    0.00014 | domain_loss:    0.01354 | bdc_loss:    0.00001\n",
      "1/1 [==============================] - 0s 11ms/step\n",
      "epoch: 4000.00000 | total_loss:    0.00014 | domain_loss:    0.01325 | bdc_loss:    0.00001\n",
      "1/1 [==============================] - 0s 11ms/step\n",
      "epoch: 4100.00000 | total_loss:    0.00013 | domain_loss:    0.01257 | bdc_loss:    0.00001\n",
      "1/1 [==============================] - 0s 12ms/step\n",
      "epoch: 4200.00000 | total_loss:    0.00013 | domain_loss:    0.01236 | bdc_loss:    0.00001\n",
      "1/1 [==============================] - 0s 12ms/step\n",
      "epoch: 4300.00000 | total_loss:    0.00013 | domain_loss:    0.01223 | bdc_loss:    0.00001\n",
      "1/1 [==============================] - 0s 11ms/step\n",
      "epoch: 4400.00000 | total_loss:    0.00013 | domain_loss:    0.01213 | bdc_loss:    0.00001\n",
      "1/1 [==============================] - 0s 11ms/step\n",
      "epoch: 4500.00000 | total_loss:    0.00013 | domain_loss:    0.01208 | bdc_loss:    0.00001\n",
      "1/1 [==============================] - 0s 11ms/step\n",
      "epoch: 4600.00000 | total_loss:    0.00013 | domain_loss:    0.01194 | bdc_loss:    0.00001\n",
      "1/1 [==============================] - 0s 12ms/step\n",
      "epoch: 4700.00000 | total_loss:    0.00012 | domain_loss:    0.01184 | bdc_loss:    0.00001\n",
      "1/1 [==============================] - 0s 11ms/step\n",
      "epoch: 4800.00000 | total_loss:    0.00012 | domain_loss:    0.01177 | bdc_loss:    0.00001\n",
      "1/1 [==============================] - 0s 12ms/step\n",
      "epoch: 4900.00000 | total_loss:    0.00012 | domain_loss:    0.01172 | bdc_loss:    0.00001\n",
      "1/1 [==============================] - 0s 12ms/step\n",
      "epoch: 5000.00000 | total_loss:    0.00012 | domain_loss:    0.01164 | bdc_loss:    0.00001\n",
      "1/1 [==============================] - 0s 12ms/step\n",
      "epoch: 5100.00000 | total_loss:    0.00012 | domain_loss:    0.01168 | bdc_loss:    0.00001\n",
      "1/1 [==============================] - 0s 12ms/step\n",
      "epoch: 5200.00000 | total_loss:    0.00012 | domain_loss:    0.01156 | bdc_loss:    0.00001\n",
      "1/1 [==============================] - 0s 12ms/step\n",
      "epoch: 5300.00000 | total_loss:    0.00012 | domain_loss:    0.01147 | bdc_loss:    0.00001\n",
      "1/1 [==============================] - 0s 11ms/step\n",
      "epoch: 5400.00000 | total_loss:    0.00012 | domain_loss:    0.01144 | bdc_loss:    0.00001\n",
      "1/1 [==============================] - 0s 11ms/step\n",
      "epoch: 5500.00000 | total_loss:    0.00012 | domain_loss:    0.01133 | bdc_loss:    0.00001\n",
      "1/1 [==============================] - 0s 12ms/step\n",
      "epoch: 5600.00000 | total_loss:    0.00012 | domain_loss:    0.01132 | bdc_loss:    0.00001\n",
      "1/1 [==============================] - 0s 11ms/step\n",
      "epoch: 5700.00000 | total_loss:    0.00012 | domain_loss:    0.01123 | bdc_loss:    0.00001\n",
      "1/1 [==============================] - 0s 12ms/step\n",
      "epoch: 5800.00000 | total_loss:    0.00012 | domain_loss:    0.01118 | bdc_loss:    0.00001\n",
      "1/1 [==============================] - 0s 12ms/step\n",
      "epoch: 5900.00000 | total_loss:    0.00012 | domain_loss:    0.01115 | bdc_loss:    0.00001\n",
      "1/1 [==============================] - 0s 11ms/step\n",
      "epoch: 6000.00000 | total_loss:    0.00012 | domain_loss:    0.01110 | bdc_loss:    0.00001\n",
      "1/1 [==============================] - 0s 12ms/step\n",
      "epoch: 6100.00000 | total_loss:    0.00012 | domain_loss:    0.01106 | bdc_loss:    0.00001\n",
      "1/1 [==============================] - 0s 11ms/step\n",
      "epoch: 6200.00000 | total_loss:    0.00012 | domain_loss:    0.01110 | bdc_loss:    0.00001\n",
      "1/1 [==============================] - 0s 12ms/step\n",
      "epoch: 6300.00000 | total_loss:    0.00011 | domain_loss:    0.01092 | bdc_loss:    0.00001\n",
      "1/1 [==============================] - 0s 11ms/step\n",
      "epoch: 6400.00000 | total_loss:    0.00011 | domain_loss:    0.01088 | bdc_loss:    0.00001\n",
      "1/1 [==============================] - 0s 12ms/step\n",
      "epoch: 6500.00000 | total_loss:    0.00011 | domain_loss:    0.01089 | bdc_loss:    0.00001\n",
      "1/1 [==============================] - 0s 12ms/step\n",
      "epoch: 6600.00000 | total_loss:    0.00011 | domain_loss:    0.01084 | bdc_loss:    0.00001\n",
      "1/1 [==============================] - 0s 11ms/step\n",
      "epoch: 6700.00000 | total_loss:    0.00011 | domain_loss:    0.01076 | bdc_loss:    0.00001\n",
      "1/1 [==============================] - 0s 11ms/step\n",
      "epoch: 6800.00000 | total_loss:    0.00011 | domain_loss:    0.01071 | bdc_loss:    0.00001\n",
      "1/1 [==============================] - 0s 12ms/step\n",
      "epoch: 6900.00000 | total_loss:    0.00011 | domain_loss:    0.01069 | bdc_loss:    0.00001\n",
      "1/1 [==============================] - 0s 12ms/step\n",
      "epoch: 7000.00000 | total_loss:    0.00011 | domain_loss:    0.01069 | bdc_loss:    0.00001\n",
      "1/1 [==============================] - 0s 11ms/step\n",
      "epoch: 7100.00000 | total_loss:    0.00011 | domain_loss:    0.01058 | bdc_loss:    0.00001\n",
      "1/1 [==============================] - 0s 13ms/step\n",
      "epoch: 7200.00000 | total_loss:    0.00011 | domain_loss:    0.01057 | bdc_loss:    0.00001\n",
      "1/1 [==============================] - 0s 11ms/step\n",
      "epoch: 7300.00000 | total_loss:    0.00011 | domain_loss:    0.01055 | bdc_loss:    0.00001\n",
      "1/1 [==============================] - 0s 11ms/step\n",
      "epoch: 7400.00000 | total_loss:    0.00011 | domain_loss:    0.01053 | bdc_loss:    0.00001\n",
      "1/1 [==============================] - 0s 12ms/step\n",
      "epoch: 7500.00000 | total_loss:    0.00011 | domain_loss:    0.01052 | bdc_loss:    0.00001\n",
      "1/1 [==============================] - 0s 12ms/step\n",
      "epoch: 7600.00000 | total_loss:    0.00011 | domain_loss:    0.01042 | bdc_loss:    0.00001\n",
      "1/1 [==============================] - 0s 11ms/step\n",
      "epoch: 7700.00000 | total_loss:    0.00011 | domain_loss:    0.01042 | bdc_loss:    0.00001\n",
      "1/1 [==============================] - 0s 12ms/step\n",
      "epoch: 7800.00000 | total_loss:    0.00011 | domain_loss:    0.01032 | bdc_loss:    0.00001\n",
      "1/1 [==============================] - 0s 11ms/step\n",
      "epoch: 7900.00000 | total_loss:    0.00011 | domain_loss:    0.01032 | bdc_loss:    0.00001\n",
      "1/1 [==============================] - 0s 12ms/step\n",
      "epoch: 8000.00000 | total_loss:    0.00011 | domain_loss:    0.01027 | bdc_loss:    0.00001\n",
      "1/1 [==============================] - 0s 12ms/step\n",
      "epoch: 8100.00000 | total_loss:    0.00011 | domain_loss:    0.01022 | bdc_loss:    0.00001\n",
      "1/1 [==============================] - 0s 12ms/step\n",
      "epoch: 8200.00000 | total_loss:    0.00011 | domain_loss:    0.01025 | bdc_loss:    0.00001\n",
      "1/1 [==============================] - 0s 11ms/step\n",
      "epoch: 8300.00000 | total_loss:    0.00011 | domain_loss:    0.01022 | bdc_loss:    0.00001\n",
      "1/1 [==============================] - 0s 12ms/step\n",
      "epoch: 8400.00000 | total_loss:    0.00011 | domain_loss:    0.01019 | bdc_loss:    0.00001\n",
      "1/1 [==============================] - 0s 12ms/step\n",
      "epoch: 8500.00000 | total_loss:    0.00011 | domain_loss:    0.01014 | bdc_loss:    0.00001\n",
      "1/1 [==============================] - 0s 12ms/step\n",
      "epoch: 8600.00000 | total_loss:    0.00011 | domain_loss:    0.01018 | bdc_loss:    0.00000\n",
      "1/1 [==============================] - 0s 11ms/step\n",
      "epoch: 8700.00000 | total_loss:    0.00011 | domain_loss:    0.01008 | bdc_loss:    0.00001\n",
      "1/1 [==============================] - 0s 13ms/step\n",
      "epoch: 8800.00000 | total_loss:    0.00011 | domain_loss:    0.01006 | bdc_loss:    0.00000\n",
      "1/1 [==============================] - 0s 11ms/step\n",
      "epoch: 8900.00000 | total_loss:    0.00011 | domain_loss:    0.01002 | bdc_loss:    0.00001\n",
      "1/1 [==============================] - 0s 12ms/step\n",
      "epoch: 9000.00000 | total_loss:    0.00010 | domain_loss:    0.00999 | bdc_loss:    0.00001\n",
      "1/1 [==============================] - 0s 12ms/step\n",
      "epoch: 9100.00000 | total_loss:    0.00010 | domain_loss:    0.00997 | bdc_loss:    0.00000\n",
      "1/1 [==============================] - 0s 12ms/step\n",
      "epoch: 9200.00000 | total_loss:    0.00010 | domain_loss:    0.01000 | bdc_loss:    0.00000\n",
      "1/1 [==============================] - 0s 12ms/step\n",
      "epoch: 9300.00000 | total_loss:    0.00010 | domain_loss:    0.00993 | bdc_loss:    0.00000\n",
      "1/1 [==============================] - 0s 12ms/step\n",
      "epoch: 9400.00000 | total_loss:    0.00010 | domain_loss:    0.00992 | bdc_loss:    0.00000\n",
      "1/1 [==============================] - 0s 12ms/step\n",
      "epoch: 9500.00000 | total_loss:    0.00010 | domain_loss:    0.00992 | bdc_loss:    0.00000\n",
      "1/1 [==============================] - 0s 12ms/step\n",
      "epoch: 9600.00000 | total_loss:    0.00010 | domain_loss:    0.00991 | bdc_loss:    0.00000\n",
      "1/1 [==============================] - 0s 12ms/step\n",
      "epoch: 9700.00000 | total_loss:    0.00010 | domain_loss:    0.00986 | bdc_loss:    0.00000\n",
      "1/1 [==============================] - 0s 13ms/step\n",
      "epoch: 9800.00000 | total_loss:    0.00010 | domain_loss:    0.00987 | bdc_loss:    0.00001\n",
      "1/1 [==============================] - 0s 12ms/step\n",
      "epoch: 9900.00000 | total_loss:    0.00010 | domain_loss:    0.00980 | bdc_loss:    0.00000\n",
      "1/1 [==============================] - 0s 11ms/step\n",
      "Training time cost:   52.19859 seconds\n"
     ]
    }
   ],
   "source": [
    "epoch_number_list = []\n",
    "total_loss_list = []\n",
    "domain_loss_list = []\n",
    "boundary_loss_list = []\n",
    "uxy_list = []\n",
    "dudx_list = []\n",
    "dudy_list = []\n",
    "d2udx2_list = []\n",
    "d2udy2_list = []\n",
    "d2udxdy_list = []\n",
    "laplace_list = []\n",
    "pde_model_train.load_weights('picn_initial_weights.h5')\n",
    "pde_model_train.compile(optimizer=keras.optimizers.Adam(learning_rate=0.001), loss=\"mse\", loss_weights = [0.01, 0.99])\n",
    "# Record the training time cost\n",
    "start = time.time()\n",
    "\n",
    "# Training\n",
    "pde_model_train.fit(x=training_input_data, \n",
    "                    y=training_label_data, \n",
    "                    epochs=10000, verbose=0,\n",
    "                    callbacks=callbacks)\n",
    "\n",
    "# Record the training time cost\n",
    "end = time.time()\n",
    "print(\"Training time cost: {:10.5f} seconds\".format(end - start))\n",
    "time_costs_text_file = open(\"time_costs.txt\", \"w\")\n",
    "time_costs_text_file.write(\"Training time cost: {:10.5f} seconds\".format(end - start))\n",
    "time_costs_text_file.close()\n",
    "\n",
    "# Load the best weights\n",
    "pde_model_train.load_weights('picn_best_weights.h5')"
   ]
  },
  {
   "cell_type": "code",
   "execution_count": 40,
   "metadata": {},
   "outputs": [
    {
     "data": {
      "image/png": "[encoded data removed]",
      "text/plain": [
       "<Figure size 1200x400 with 1 Axes>"
      ]
     },
     "metadata": {},
     "output_type": "display_data"
    }
   ],
   "source": [
    "df=pd.DataFrame({'epoch': epoch_number_list, \n",
    "                 'total_loss': total_loss_list, \n",
    "                 'governing_loss': domain_loss_list, \n",
    "                 'boundary_loss': boundary_loss_list})\n",
    "\n",
    "plt.figure(figsize=(12, 4))\n",
    "plt.plot( 'epoch', 'total_loss', data=df, marker='o', markerfacecolor='red', markersize=2, color='skyblue', linewidth=3)\n",
    "plt.plot( 'epoch', 'governing_loss', data=df, marker='', color='green', linewidth=2, linestyle='dashed')\n",
    "plt.plot( 'epoch', 'boundary_loss', data=df, marker='', color='blue', linewidth=2, linestyle='dashed')\n",
    "plt.legend()\n",
    "#plt.xscale('log')\n",
    "plt.yscale('log')\n",
    "plt.show()"
   ]
  },
  {
   "cell_type": "code",
   "execution_count": 41,
   "metadata": {},
   "outputs": [
    {
     "name": "stdout",
     "output_type": "stream",
     "text": [
      "1/1 [==============================] - 0s 12ms/step\n"
     ]
    }
   ],
   "source": [
    "[x_m, y_m, uxy, dudx, dudy, d2udx2, d2udy2, d2udxdy, laplace] = pde_model.predict(training_input_data[:3])"
   ]
  },
  {
   "cell_type": "code",
   "execution_count": 42,
   "metadata": {},
   "outputs": [
    {
     "data": {
      "text/plain": [
       "Text(0, 0.5, 'y')"
      ]
     },
     "execution_count": 42,
     "metadata": {},
     "output_type": "execute_result"
    },
    {
     "data": {
      "image/png": "[encoded data removed]",
      "text/plain": [
       "<Figure size 1400x300 with 6 Axes>"
      ]
     },
     "metadata": {},
     "output_type": "display_data"
    }
   ],
   "source": [
    "z_mesh = U(x_mesh,y_mesh)\n",
    "z_mesh[~governing_equation_mask] = np.nan\n",
    "\n",
    "fig, axs = plt.subplots(1,3,constrained_layout=False, figsize=(14, 3))\n",
    "#\n",
    "ax = axs.ravel()[0]\n",
    "temp = uxy[0,:,:,0]\n",
    "temp[~governing_equation_mask]=np.nan\n",
    "cs = ax.contourf(x_domain, y_domain, uxy[0,:,:,0],np.linspace(-1.5, 1.5, 50))\n",
    "fig.colorbar(cs, ax=ax, shrink=0.9)\n",
    "ax.set_xlabel('x')\n",
    "ax.set_ylabel('y')\n",
    "#\n",
    "ax = axs.ravel()[1]\n",
    "cs = ax.contourf(x_domain, y_domain, z_mesh,np.linspace(-1.5, 1.5, 50))\n",
    "fig.colorbar(cs, ax=ax, shrink=0.9)\n",
    "ax.set_xlabel('x')\n",
    "ax.set_ylabel('y')\n",
    "#\n",
    "ax = axs.ravel()[2]\n",
    "cs = ax.contourf(x_domain, y_domain, uxy[0,:,:,0]-z_mesh,50)\n",
    "fig.colorbar(cs, ax=ax, shrink=0.9)\n",
    "ax.set_xlabel('x')\n",
    "ax.set_ylabel('y')"
   ]
  },
  {
   "cell_type": "code",
   "execution_count": 43,
   "metadata": {},
   "outputs": [
    {
     "data": {
      "text/plain": [
       "-0.029018251532332343"
      ]
     },
     "execution_count": 43,
     "metadata": {},
     "output_type": "execute_result"
    }
   ],
   "source": [
    "(uxy[0,:,:,0]-z_mesh)[governing_equation_mask].mean()"
   ]
  },
  {
   "cell_type": "markdown",
   "metadata": {},
   "source": [
    "# 8. Save the Process Data"
   ]
  },
  {
   "cell_type": "code",
   "execution_count": 44,
   "metadata": {},
   "outputs": [],
   "source": [
    "picn_process_data = {'x_domain':x_domain,\n",
    "                     'y_domain':y_domain,\n",
    "                     'epoch_number_list':np.asarray(epoch_number_list),\n",
    "                     'total_loss_list':np.asarray(total_loss_list),\n",
    "                     'domain_loss_list':np.asarray(domain_loss_list),\n",
    "                     'boundary_loss_list':np.asarray(boundary_loss_list),\n",
    "                     'uxy_list':np.concatenate(uxy_list,axis=0),\n",
    "                     'dudx_list':np.concatenate(dudx_list,axis=0),\n",
    "                     'dudy_list':np.concatenate(dudy_list,axis=0),\n",
    "                     'd2udx2_list':np.concatenate(d2udx2_list,axis=0),\n",
    "                     'd2udy2_list':np.concatenate(d2udy2_list,axis=0),\n",
    "                     'd2udxdy_list':np.concatenate(d2udxdy_list,axis=0),\n",
    "                     'laplace_list':np.concatenate(laplace_list,axis=0)}\n",
    "savemat('picn_process_data.mat', picn_process_data)"
   ]
  },
  {
   "cell_type": "code",
   "execution_count": null,
   "metadata": {},
   "outputs": [],
   "source": []
  }
 ],
 "metadata": {
  "kernelspec": {
   "display_name": "Python 3",
   "language": "python",
   "name": "python3"
  },
  "language_info": {
   "codemirror_mode": {
    "name": "ipython",
    "version": 3
   },
   "file_extension": ".py",
   "mimetype": "text/x-python",
   "name": "python",
   "nbconvert_exporter": "python",
   "pygments_lexer": "ipython3",
   "version": "3.8.3"
  }
 },
 "nbformat": 4,
 "nbformat_minor": 5
}
